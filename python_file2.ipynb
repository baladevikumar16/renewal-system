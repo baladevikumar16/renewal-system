{
  "nbformat": 4,
  "nbformat_minor": 0,
  "metadata": {
    "colab": {
      "name": "python file2.ipynb",
      "provenance": [],
      "collapsed_sections": [],
      "authorship_tag": "ABX9TyPCsb0xLVg1my0ikDozvzC1",
      "include_colab_link": true
    },
    "kernelspec": {
      "name": "python3",
      "display_name": "Python 3"
    }
  },
  "cells": [
    {
      "cell_type": "markdown",
      "metadata": {
        "id": "view-in-github",
        "colab_type": "text"
      },
      "source": [
        "<a href=\"https://colab.research.google.com/github/baladevikumar16/renewal-system/blob/master/python_file2.ipynb\" target=\"_parent\"><img src=\"https://colab.research.google.com/assets/colab-badge.svg\" alt=\"Open In Colab\"/></a>"
      ]
    },
    {
      "cell_type": "markdown",
      "metadata": {
        "id": "ArYEnrXpFYS5"
      },
      "source": [
        "#SETS\r\n",
        "#creating set"
      ]
    },
    {
      "cell_type": "code",
      "metadata": {
        "colab": {
          "base_uri": "https://localhost:8080/"
        },
        "id": "3TkQfoIDFnx2",
        "outputId": "dd49bd96-0a79-44da-fca5-3f88fa8e79c0"
      },
      "source": [
        "\"\"\"\r\n",
        "Set\r\n",
        "Sets are used to store multiple items in a single variable.\r\n",
        "Set is one of 4 built-in data types in Python used to store collections of data, the other 3 are List, Tuple, and Dictionary, \r\n",
        "all with different qualities and usage.\r\n",
        "A set is a collection which is both unordered and unindexed.\r\n",
        "Sets are written with curly brackets.\r\n",
        "Note: Sets are unordered, so you cannot be sure in which order the items will appear.\r\n",
        "\"\"\"\"\r\n",
        "\r\n",
        "myset={\"apple\",\"mango\",\"banana\",\"cherry\",\"jackfruit\"}#creating sets\r\n",
        "print(myset)"
      ],
      "execution_count": 1,
      "outputs": [
        {
          "output_type": "stream",
          "text": [
            "{'mango', 'apple', 'banana', 'cherry', 'jackfruit'}\n"
          ],
          "name": "stdout"
        }
      ]
    },
    {
      "cell_type": "markdown",
      "metadata": {
        "id": "O9vH-rYtHlYJ"
      },
      "source": [
        "\"\"\"\r\n",
        "Set Items->\r\n",
        "Set items are unordered, unchangeable, and do not allow duplicate values.\r\n",
        "\r\n",
        "Unordered->\r\n",
        "Unordered means that the items in a set do not have a defined order.\r\n",
        "\r\n",
        "Set items can appear in a different order every time you use them, and cannot be referred to by index or key.\r\n",
        "\r\n",
        "Unchangeable->\r\n",
        "Sets are unchangeable, meaning that we cannot change the items after the set has been created.\r\n",
        "\r\n",
        "Once a set is created, you cannot change its items, but you can add new items.\r\n",
        "\r\n",
        "Duplicates Not Allowed->\r\n",
        "Sets cannot have two items with the same value.\r\n",
        "\r\n",
        "\"\"\""
      ]
    },
    {
      "cell_type": "code",
      "metadata": {
        "colab": {
          "base_uri": "https://localhost:8080/"
        },
        "id": "0HXB1xohHrsi",
        "outputId": "b1007dff-b37e-4571-830d-8d0db7ba4d5c"
      },
      "source": [
        "thisset={\"apple\",\"mango\",\"banana\",\"cherry\",\"jackfruit\",\"apple\"}#duplicate val are ignored-here apple is duplicate so it is not printed\r\n",
        "print(thisset)"
      ],
      "execution_count": 5,
      "outputs": [
        {
          "output_type": "stream",
          "text": [
            "{'mango', 'apple', 'banana', 'cherry', 'jackfruit'}\n"
          ],
          "name": "stdout"
        }
      ]
    },
    {
      "cell_type": "markdown",
      "metadata": {
        "id": "378HgdopIs9V"
      },
      "source": [
        "\"\"\"Get the Length of a Set-To determine how many items a set has, use the len() method.\"\"\"\r\n"
      ]
    },
    {
      "cell_type": "code",
      "metadata": {
        "colab": {
          "base_uri": "https://localhost:8080/"
        },
        "id": "0Cf00H4fIy7O",
        "outputId": "e8ef8c15-7d98-49c3-d4f5-9eb036ab1dfe"
      },
      "source": [
        "thisset={\"apple\",\"mango\",\"banana\",\"cherry\",\"jackfruit\"}\r\n",
        "print(len(thisset))"
      ],
      "execution_count": 9,
      "outputs": [
        {
          "output_type": "stream",
          "text": [
            "5\n"
          ],
          "name": "stdout"
        }
      ]
    },
    {
      "cell_type": "markdown",
      "metadata": {
        "id": "zzJYdp14Jam9"
      },
      "source": [
        "\"\"\"Set Items - Data Types\r\n",
        "Set items can be of any data type:String, int and boolean data types:\r\n",
        "\r\n",
        "set1 = {\"apple\", \"banana\", \"cherry\"}\r\n",
        "set2 = {1, 5, 7, 9, 3}\r\n",
        "set3 = {True, False, False}\r\n",
        "A set can contain different data types\"\"\""
      ]
    },
    {
      "cell_type": "code",
      "metadata": {
        "colab": {
          "base_uri": "https://localhost:8080/"
        },
        "id": "n56gKf5nJkL_",
        "outputId": "7f105582-c301-4742-8d71-214778b4efac"
      },
      "source": [
        "thisset1={\"apple\",\"banana\",\"ab\",True,False,1,2,56,7.8,993.66}#set data type\r\n",
        "print(thisset1)\r\n",
        "print(type(thisset1))#to print datatype\r\n",
        "#The set() Constructor\r\n",
        "\"\"\"It is also possible to use the set() constructor to make a set.\r\n",
        "Using the set() constructor to make a set:\"\"\"\r\n",
        "thisset1=set((\"apple\",\"banana\",\"ab\",True,False,1,2,56,7.8,993.66))\r\n",
        "print(thisset1)"
      ],
      "execution_count": 17,
      "outputs": [
        {
          "output_type": "stream",
          "text": [
            "{False, True, 2, 993.66, 7.8, 'apple', 'banana', 56, 'ab'}\n",
            "<class 'set'>\n",
            "{False, True, 2, 993.66, 7.8, 'apple', 'banana', 56, 'ab'}\n"
          ],
          "name": "stdout"
        }
      ]
    },
    {
      "cell_type": "markdown",
      "metadata": {
        "id": "XFXdbvYlLldr"
      },
      "source": [
        "#Access items in sets\r\n",
        "\"\"\"You cannot access items in a set by referring to an index or a key.\r\n",
        "But you can loop through the set items using a for loop, or ask if a specified value is present in a set, by using the in keyword.\r\n",
        "\"\"\"\r\n",
        "\r\n"
      ]
    },
    {
      "cell_type": "code",
      "metadata": {
        "colab": {
          "base_uri": "https://localhost:8080/"
        },
        "id": "5pLDwhEANtiL",
        "outputId": "fae2dfb0-8971-415e-f888-fe5192efae04"
      },
      "source": [
        "#Loop through the set, and print the values\r\n",
        "thisset1={\"apple\",\"banana\",\"ab\",True,False,1,2,56,7.8,993.66}\r\n",
        "for x in thisset1:\r\n",
        "    print(x)\r\n",
        "#Check if \"banana\" is present in the set:\r\n",
        "thisset1={\"apple\",\"banana\",\"ab\",True,False,1,2,56,7.8,993.66}\r\n",
        "print(thisset1)\r\n",
        "print(\"banana\" in thisset1)\r\n",
        "#Change Items-Once a set is created, you cannot change its items, but you can add new items.\r\n",
        "\r\n"
      ],
      "execution_count": 26,
      "outputs": [
        {
          "output_type": "stream",
          "text": [
            "False\n",
            "True\n",
            "2\n",
            "993.66\n",
            "7.8\n",
            "apple\n",
            "banana\n",
            "56\n",
            "ab\n",
            "{False, True, 2, 993.66, 7.8, 'apple', 'banana', 56, 'ab'}\n",
            "True\n"
          ],
          "name": "stdout"
        }
      ]
    },
    {
      "cell_type": "markdown",
      "metadata": {
        "id": "jzaYk7_ETAxj"
      },
      "source": [
        "#ADD SET ITEMS"
      ]
    },
    {
      "cell_type": "markdown",
      "metadata": {
        "id": "2U5Pl-DyQTwO"
      },
      "source": [
        "\"\"\"Add Items->\r\n",
        "Once a set is created, you cannot change its items, but you can add new items.\r\n",
        "To add one item to a set use the add() method.\r\n",
        "Add an item to a set, using the add() method:1\"\"\"\r\n",
        "\r\n"
      ]
    },
    {
      "cell_type": "code",
      "metadata": {
        "colab": {
          "base_uri": "https://localhost:8080/"
        },
        "id": "0N4P7yImQzy4",
        "outputId": "9f0abae3-523a-4aa8-9be0-d0e49f3af259"
      },
      "source": [
        "thisset1={\"apple\",\"banana\",\"ab\",True,False,1,2,56,7.8,993.66}\r\n",
        "thisset1.add(\"orange\")\r\n",
        "print(thisset1)\r\n",
        "\r\n",
        "\"\"\"Add Sets\r\n",
        "To add items from another set into the current set, use the update() method.\r\n",
        "Add elements from tropical and thisset into newset:\"\"\"\r\n",
        "thisset = {\"apple\", \"banana\", \"cherry\"}\r\n",
        "tropical = {\"pineapple\", \"mango\", \"papaya\"}\r\n",
        "thisset.update(tropical)\r\n",
        "print(thisset)\r\n",
        "\r\n",
        "\"\"\"\r\n",
        "Add Any Iterable->The object in the update() method does not have be a set, it can be any iterable object (tuples, lists, dictionaries et,).\r\n",
        "Add elements of a list to at set:\"\"\"\r\n",
        "thisset = {\"apple\", \"banana\", \"cherry\"}\r\n",
        "mylist = [\"kiwi\", \"orange\"]\r\n",
        "thisset.update(mylist)\r\n",
        "print(thisset)\r\n"
      ],
      "execution_count": 29,
      "outputs": [
        {
          "output_type": "stream",
          "text": [
            "{False, True, 2, 993.66, 7.8, 'apple', 'banana', 'orange', 56, 'ab'}\n",
            "{'mango', 'papaya', 'apple', 'banana', 'pineapple', 'cherry'}\n",
            "{'kiwi', 'apple', 'orange', 'banana', 'cherry'}\n"
          ],
          "name": "stdout"
        }
      ]
    },
    {
      "cell_type": "markdown",
      "metadata": {
        "id": "368MJC5xTGvb"
      },
      "source": [
        "#REMOVE SET ITEMS"
      ]
    },
    {
      "cell_type": "code",
      "metadata": {
        "colab": {
          "base_uri": "https://localhost:8080/",
          "height": 299
        },
        "id": "SlPfWLYlTKyr",
        "outputId": "b9eb11fb-857c-428e-c794-50fd902ed329"
      },
      "source": [
        "thisset1={\"apple\",\"banana\",\"ab\",True,False,1,2,56,7.8,993.66}\r\n",
        "thisset1.remove(\"apple\")\r\n",
        "print(thisset1)\r\n",
        "thisset1={\"apple\",\"banana\",\"ab\",True,False,1,2,56,7.8,993.66}\r\n",
        "thisset1.discard(\"ab\")\r\n",
        "print(thisset1)\r\n",
        "\"\"\"You can also use the pop() method to remove an item, \r\n",
        "but this method will remove the last item. Remember that sets are unordered, so you will not know what item that gets removed.\r\n",
        "The return value of the pop() method is the removed item.\"\"\"\r\n",
        "thisset1={\"apple\",\"banana\",\"ab\",True,False,1,2,56,7.8,993.66}\r\n",
        "x=thisset1.pop()\r\n",
        "print(x)\r\n",
        "print(thisset1)\r\n",
        "#The clear() method empties the set:\r\n",
        "thisset1={\"apple\",\"banana\",\"ab\",True,False,1,2,56,7.8,993.66}\r\n",
        "thisset1.clear()\r\n",
        "print(thisset1)\r\n",
        "#The del keyword will delete the set completely:\r\n",
        "thisset1={\"apple\",\"banana\",\"ab\",True,False,1,2,56,7.8,993.66}\r\n",
        "del thisset1\r\n",
        "print(thisset1)# #this will raise an error because the set no longer exists\r\n",
        "\r\n",
        "\r\n"
      ],
      "execution_count": 33,
      "outputs": [
        {
          "output_type": "stream",
          "text": [
            "{False, True, 2, 993.66, 7.8, 'banana', 56, 'ab'}\n",
            "{False, True, 2, 993.66, 7.8, 'apple', 'banana', 56}\n",
            "False\n",
            "{True, 2, 993.66, 7.8, 'apple', 'banana', 56, 'ab'}\n",
            "set()\n"
          ],
          "name": "stdout"
        },
        {
          "output_type": "error",
          "ename": "NameError",
          "evalue": "ignored",
          "traceback": [
            "\u001b[0;31m---------------------------------------------------------------------------\u001b[0m",
            "\u001b[0;31mNameError\u001b[0m                                 Traceback (most recent call last)",
            "\u001b[0;32m<ipython-input-33-366b0324181f>\u001b[0m in \u001b[0;36m<module>\u001b[0;34m()\u001b[0m\n\u001b[1;32m     19\u001b[0m \u001b[0mthisset1\u001b[0m\u001b[0;34m=\u001b[0m\u001b[0;34m{\u001b[0m\u001b[0;34m\"apple\"\u001b[0m\u001b[0;34m,\u001b[0m\u001b[0;34m\"banana\"\u001b[0m\u001b[0;34m,\u001b[0m\u001b[0;34m\"ab\"\u001b[0m\u001b[0;34m,\u001b[0m\u001b[0;32mTrue\u001b[0m\u001b[0;34m,\u001b[0m\u001b[0;32mFalse\u001b[0m\u001b[0;34m,\u001b[0m\u001b[0;36m1\u001b[0m\u001b[0;34m,\u001b[0m\u001b[0;36m2\u001b[0m\u001b[0;34m,\u001b[0m\u001b[0;36m56\u001b[0m\u001b[0;34m,\u001b[0m\u001b[0;36m7.8\u001b[0m\u001b[0;34m,\u001b[0m\u001b[0;36m993.66\u001b[0m\u001b[0;34m}\u001b[0m\u001b[0;34m\u001b[0m\u001b[0;34m\u001b[0m\u001b[0m\n\u001b[1;32m     20\u001b[0m \u001b[0;32mdel\u001b[0m \u001b[0mthisset1\u001b[0m\u001b[0;34m\u001b[0m\u001b[0;34m\u001b[0m\u001b[0m\n\u001b[0;32m---> 21\u001b[0;31m \u001b[0mprint\u001b[0m\u001b[0;34m(\u001b[0m\u001b[0mthisset1\u001b[0m\u001b[0;34m)\u001b[0m\u001b[0;34m\u001b[0m\u001b[0;34m\u001b[0m\u001b[0m\n\u001b[0m\u001b[1;32m     22\u001b[0m \u001b[0;34m\u001b[0m\u001b[0m\n",
            "\u001b[0;31mNameError\u001b[0m: name 'thisset1' is not defined"
          ]
        }
      ]
    },
    {
      "cell_type": "markdown",
      "metadata": {
        "id": "DBIopOzHVNMe"
      },
      "source": [
        "Loop Items-You can loop through the set items by using a for loop:\r\n",
        "Loop through the set, and print the values:\r\n",
        "\r\n"
      ]
    },
    {
      "cell_type": "code",
      "metadata": {
        "colab": {
          "base_uri": "https://localhost:8080/"
        },
        "id": "aIp13FYNVZVB",
        "outputId": "3b58846d-b420-4969-90c4-63c923dfb6f4"
      },
      "source": [
        "thisset1={\"apple\",\"banana\",\"ab\",True,False,1,2,56,7.8,993.66}\r\n",
        "for x in thisset1:\r\n",
        "   print(x)"
      ],
      "execution_count": 35,
      "outputs": [
        {
          "output_type": "stream",
          "text": [
            "False\n",
            "True\n",
            "2\n",
            "993.66\n",
            "7.8\n",
            "apple\n",
            "banana\n",
            "56\n",
            "ab\n"
          ],
          "name": "stdout"
        }
      ]
    },
    {
      "cell_type": "markdown",
      "metadata": {
        "id": "wIRR1FswWTcA"
      },
      "source": [
        "#JOIN SETS"
      ]
    },
    {
      "cell_type": "code",
      "metadata": {
        "id": "X-nIRNJBWXqZ"
      },
      "source": [
        "Join Two Sets-There are several ways to join two or more sets in Python.\r\n",
        "You can use the union() method that returns a new set containing all items from both sets, \r\n",
        "or the update() method that inserts all the items from one set into another:\r\n",
        "\r\n"
      ],
      "execution_count": null,
      "outputs": []
    },
    {
      "cell_type": "code",
      "metadata": {
        "colab": {
          "base_uri": "https://localhost:8080/"
        },
        "id": "3XC85J-KWlx9",
        "outputId": "eaf8c166-b8e4-4be0-f61f-5eaf3523162f"
      },
      "source": [
        "\"\"\"Both union() and update() will exclude any duplicate items.\"\"\"\r\n",
        "\"\"\"The union() method returns a new set with all items from both sets:\"\"\"\r\n",
        "set1 = {\"a\", \"b\" , \"c\"}\r\n",
        "set2 = {1, 2, 3}\r\n",
        "set3=set1.union(set2)\r\n",
        "print(set3)\r\n",
        "\r\n",
        "\"\"\"The update() method inserts the items in set2 into set1:\"\"\"\r\n",
        "set1 = {\"a\", \"b\" , \"c\",\"a\"}\r\n",
        "set2 = {1, 2, 3}\r\n",
        "set1.update(set2)\r\n",
        "print(set1)\r\n",
        "\r\n",
        "\"\"\"Keep ONLY the Duplicates\r\n",
        "The intersection_update() method will keep only the items that are present in both sets.\r\n",
        "Keep the items that exist in both set x, and set y\"\"\"\r\n",
        "set1 = {\"a\", \"b\",\"c\",1,6,9,3}\r\n",
        "set2 = {1, 2, 3,\"a\",\"b\",\"c\"}\r\n",
        "set1.intersection_update(set2)\r\n",
        "print(set1)\r\n",
        "\r\n",
        "\"\"\"The intersection() method will return a new set, that only contains the items that are present in both sets.\"\"\"\r\n",
        "\"\"\"Return a set that contains the items that exist in both set x, and set y.\"\"\"\r\n",
        "set1 = {\"a\", \"b\",\"c\",1,6,9,3}\r\n",
        "set2 = {1, 2, 3,\"a\",\"b\",\"c\"}\r\n",
        "set3=set1.intersection(set2)\r\n",
        "print(set3)\r\n",
        "\r\n",
        "\"\"\"Keep All, But NOT the Duplicates\r\n",
        "The symmetric_difference_update() method will keep only the elements that are NOT present in both sets.\r\n",
        "Keep the items that are not present in both sets:\r\n",
        "\"\"\"\r\n",
        "set1 = {\"a\", \"b\",\"c\",1,6,9,3}\r\n",
        "set2 = {1, 2, 3,\"a\",\"b\",\"c\"}\r\n",
        "set1.symmetric_difference_update(set2)\r\n",
        "print(set1)\r\n",
        "\r\n",
        "\"\"\"The symmetric_difference() method will return a new set, that contains only the elements that are NOT present in both sets.\r\n",
        "Return a set that contains all items from both sets, except items that are present in both:\"\"\"\r\n",
        "set1 = {\"a\", \"b\",\"c\",1,6,9,3}\r\n",
        "set2 = {1, 2, 3,\"a\",\"b\",\"c\"}\r\n",
        "set3=set1.symmetric_difference(set2)\r\n",
        "print(set3)\r\n"
      ],
      "execution_count": 53,
      "outputs": [
        {
          "output_type": "stream",
          "text": [
            "{1, 2, 3, 'a', 'c', 'b'}\n",
            "{1, 2, 3, 'a', 'c', 'b'}\n",
            "{1, 3, 'a', 'c', 'b'}\n",
            "{1, 3, 'a', 'c', 'b'}\n",
            "{2, 6, 9}\n",
            "{2, 6, 9}\n"
          ],
          "name": "stdout"
        }
      ]
    },
    {
      "cell_type": "markdown",
      "metadata": {
        "id": "oNRtICYDaPaX"
      },
      "source": [
        "Set Methods\r\n",
        "Python has a set of built-in methods that you can use on sets.\r\n",
        "\r\n",
        "Method\tDescription\r\n",
        "#add()\tAdds an element to the set\r\n",
        "#clear()\tRemoves all the elements from the set\r\n",
        "#copy()\tReturns a copy of the set\r\n",
        "#difference()\tReturns a set containing the difference between two or more sets\r\n",
        "#difference_update()\tRemoves the items in this set that are also included in another, specified set\r\n",
        "#discard()\tRemove the specified item\r\n",
        "#intersection()\tReturns a set, that is the intersection of two other sets\r\n",
        "#intersection_update()\tRemoves the items in this set that are not present in other, specified set(s)\r\n",
        "#isdisjoint()\tReturns whether two sets have a intersection or not\r\n",
        "#issubset()\tReturns whether another set contains this set or not\r\n",
        "#issuperset()\tReturns whether this set contains another set or not\r\n",
        "#pop()\tRemoves an element from the set\r\n",
        "#remove()\tRemoves the specified element\r\n",
        "#symmetric_difference()\tReturns a set with the symmetric differences of two sets\r\n",
        "#symmetric_difference_update()\tinserts the symmetric differences from this set and another\r\n",
        "#union()\tReturn a set containing the union of sets\r\n",
        "#update()\tUpdate the set with the union of this set and others\r\n"
      ]
    },
    {
      "cell_type": "code",
      "metadata": {
        "colab": {
          "base_uri": "https://localhost:8080/"
        },
        "id": "tg0iqMgja72O",
        "outputId": "c6a128a1-7462-41df-fa65-ea85675561d0"
      },
      "source": [
        "x = {\"apple\", \"banana\", \"cherry\"}#Returns true or false, based on the two sets\r\n",
        "y = {\"google\", \"microsoft\", \"facebook\"}\r\n",
        "z = x.isdisjoint(y)\r\n",
        "print(z)\r\n",
        "\r\n",
        "\r\n",
        "x = {\"a\", \"b\", \"c\"}#Returns true or false, based on the two sets\r\n",
        "y = {\"f\", \"e\", \"d\", \"c\", \"b\", \"a\"}\r\n",
        "z = x.issubset(y)\r\n",
        "print(z)\r\n",
        "\r\n",
        "\r\n",
        "x = {\"f\", \"e\", \"d\", \"c\", \"b\", \"a\"}#Returns true or false, based on the two sets\r\n",
        "y = {\"a\", \"b\", \"c\"}\r\n",
        "z = x.issuperset(y)\r\n",
        "print(z)\r\n",
        "\r\n",
        "\"\"\"\r\n",
        "The difference_update() method removes the items that exist in both sets.\r\n",
        "The difference_update() method is different from the difference() method, \r\n",
        "because the difference() method returns a new set, without the unwanted items,\r\n",
        " and the difference_update() method removes the unwanted items from the original set.\r\n",
        "\"\"\"\r\n",
        "x = {\"apple\", \"banana\", \"cherry\"}#Remove the items that exist in both sets:\r\n",
        "y = {\"google\", \"microsoft\", \"apple\"}\r\n",
        "z = x.difference(y)\r\n",
        "print(z)\r\n",
        "\r\n",
        "\r\n",
        "x = {\"apple\", \"banana\", \"cherry\"}#Remove the items that exist in both sets:\r\n",
        "y = {\"google\", \"microsoft\", \"apple\"}\r\n",
        "x.difference_update(y)\r\n",
        "print(x)\r\n"
      ],
      "execution_count": 58,
      "outputs": [
        {
          "output_type": "stream",
          "text": [
            "True\n",
            "True\n",
            "True\n",
            "{'cherry', 'banana'}\n",
            "{'cherry', 'banana'}\n"
          ],
          "name": "stdout"
        }
      ]
    },
    {
      "cell_type": "markdown",
      "metadata": {
        "id": "BTqsRVBXcl1X"
      },
      "source": [
        "LOOPS\r\n",
        "#IF\r\n",
        "#FOR\r\n",
        "#WHILE"
      ]
    },
    {
      "cell_type": "markdown",
      "metadata": {
        "id": "fid8Y3WElwZM"
      },
      "source": [
        "IF LOOP:"
      ]
    },
    {
      "cell_type": "code",
      "metadata": {
        "colab": {
          "base_uri": "https://localhost:8080/"
        },
        "id": "37YL1Hy3cuaA",
        "outputId": "aa7cc635-999f-4773-c8b9-f17a4bdd5869"
      },
      "source": [
        "#IF,ELIF,ELSE\r\n",
        "a=33\r\n",
        "b=33\r\n",
        "if a>b:\r\n",
        "  print(\"a is greater than b\")\r\n",
        "elif a==b:\r\n",
        "  print(\"a is equal to b\")\r\n",
        "else:\r\n",
        "  print(\"b is greater than a\")\r\n"
      ],
      "execution_count": 61,
      "outputs": [
        {
          "output_type": "stream",
          "text": [
            "a is equal to b\n"
          ],
          "name": "stdout"
        }
      ]
    },
    {
      "cell_type": "code",
      "metadata": {
        "colab": {
          "base_uri": "https://localhost:8080/"
        },
        "id": "OO65q08oh4RM",
        "outputId": "3d03ec78-f5a2-49d5-b662-122e3180bb09"
      },
      "source": [
        "a=33\r\n",
        "b=34\r\n",
        "if a>b:\r\n",
        "  print(\"a is greater than b\")\r\n",
        "elif a==b:\r\n",
        "  print(\"a is equal to b\")\r\n",
        "else:\r\n",
        "  print(\"b is greater than a\")\r\n"
      ],
      "execution_count": 62,
      "outputs": [
        {
          "output_type": "stream",
          "text": [
            "b is greater than b\n"
          ],
          "name": "stdout"
        }
      ]
    },
    {
      "cell_type": "code",
      "metadata": {
        "colab": {
          "base_uri": "https://localhost:8080/"
        },
        "id": "2YAlbHG5h8be",
        "outputId": "fa583c40-b236-4036-bc7b-31182d614e15"
      },
      "source": [
        "a=33\r\n",
        "b=33\r\n",
        "c=100\r\n",
        "if c>b:print(\"c is greater than b\")#short hand if(ie)print stmt is in the same line\r\n",
        "elif a==b:\r\n",
        "  print(\"a is equal to b\")\r\n",
        "else:\r\n",
        "  print(\"b is greater than a\")"
      ],
      "execution_count": 70,
      "outputs": [
        {
          "output_type": "stream",
          "text": [
            "c is greater than b\n"
          ],
          "name": "stdout"
        }
      ]
    },
    {
      "cell_type": "code",
      "metadata": {
        "colab": {
          "base_uri": "https://localhost:8080/"
        },
        "id": "SZRjZ6ZoiXVB",
        "outputId": "bf8f8a8c-a33f-4ff1-a19f-5f4ba35dc872"
      },
      "source": [
        "\"\"\"Short Hand If ... Else\r\n",
        "If you have only one statement to execute, one for if, and one for else, you can put it all on the same line:\"\"\"\r\n",
        "a=33\r\n",
        "b=33\r\n",
        "c=100\r\n",
        "print(\"c is greater than b\")if c>b else print(\"b is greater than c\")#ternary or conditional expressions\r\n",
        "\r\n"
      ],
      "execution_count": 64,
      "outputs": [
        {
          "output_type": "stream",
          "text": [
            "c is greater than b\n"
          ],
          "name": "stdout"
        }
      ]
    },
    {
      "cell_type": "code",
      "metadata": {
        "colab": {
          "base_uri": "https://localhost:8080/"
        },
        "id": "dLxfgqjwjGMI",
        "outputId": "8a85a53d-6e25-48f5-d3b2-54480305a94f"
      },
      "source": [
        "a=33\r\n",
        "b=330\r\n",
        "c=1000\r\n",
        "if a<b and b<c:\r\n",
        "  print(\"Both the conditions are true\") \r\n",
        "else:\r\n",
        "  print(\"Any one of the conditions are true\")"
      ],
      "execution_count": 67,
      "outputs": [
        {
          "output_type": "stream",
          "text": [
            "Both the conditions are true\n"
          ],
          "name": "stdout"
        }
      ]
    },
    {
      "cell_type": "code",
      "metadata": {
        "colab": {
          "base_uri": "https://localhost:8080/"
        },
        "id": "5Fha0wkdjlOz",
        "outputId": "de8cee43-a341-415f-e6fe-0157f350187c"
      },
      "source": [
        "a=33\r\n",
        "b=3300\r\n",
        "c=1000\r\n",
        "if a<b or b<c:\r\n",
        "  print(\"Atleast one of the conditions are true\") "
      ],
      "execution_count": 69,
      "outputs": [
        {
          "output_type": "stream",
          "text": [
            "Atleast one of the conditions are true\n"
          ],
          "name": "stdout"
        }
      ]
    },
    {
      "cell_type": "code",
      "metadata": {
        "colab": {
          "base_uri": "https://localhost:8080/"
        },
        "id": "TvHVJTJGkkO8",
        "outputId": "b44ee2f0-b8c7-43cf-9d20-d0eb0d072129"
      },
      "source": [
        "#Nested If\r\n",
        "#You can have if statements inside if statements, this is called nested if statements.\r\n",
        "\r\n",
        "x = 100\r\n",
        "if x > 10:\r\n",
        "  print(\"Above ten,\")\r\n",
        "  if x > 20:\r\n",
        "    print(\"and also above 20!\")\r\n",
        "    if x>30:\r\n",
        "      print(\"and also above 30!\")\r\n",
        "  else:\r\n",
        "    print(\"but not above 30.\")\r\n"
      ],
      "execution_count": 73,
      "outputs": [
        {
          "output_type": "stream",
          "text": [
            "Above ten,\n",
            "and also above 20!\n",
            "and also above 30!\n"
          ],
          "name": "stdout"
        }
      ]
    },
    {
      "cell_type": "code",
      "metadata": {
        "id": "e6cG2W51lXIE"
      },
      "source": [
        "#pass stmt\r\n",
        "\"\"\"if statements cannot be empty, but if you for some reason have an if statement with no content, \r\n",
        "put in the pass statement to avoid getting an error.\"\"\"\r\n",
        "a = 33\r\n",
        "b = 200\r\n",
        "if b > a:\r\n",
        "  pass\r\n"
      ],
      "execution_count": 74,
      "outputs": []
    },
    {
      "cell_type": "markdown",
      "metadata": {
        "id": "hr4SEiS3l2Ci"
      },
      "source": [
        "WHILE LOOP"
      ]
    },
    {
      "cell_type": "code",
      "metadata": {
        "colab": {
          "base_uri": "https://localhost:8080/"
        },
        "id": "Dues6Dztl5tQ",
        "outputId": "21720202-1ba0-46b3-f2bb-51a1619fb446"
      },
      "source": [
        "#The while Loop-With the while loop we can execute a set of statements as long as a condition is true.\r\n",
        "\"\"\"print i as long as i is less than 6\"\"\"\r\n",
        "i=1\r\n",
        "while i<6:\r\n",
        "  print(i)\r\n",
        "  i=i+1 #i+=1\r\n",
        "  #remember to increment i, or else the loop will continue forever.\r\n",
        "\r\n",
        "\r\n"
      ],
      "execution_count": 79,
      "outputs": [
        {
          "output_type": "stream",
          "text": [
            "1\n",
            "2\n",
            "3\n",
            "4\n",
            "5\n"
          ],
          "name": "stdout"
        }
      ]
    },
    {
      "cell_type": "code",
      "metadata": {
        "colab": {
          "base_uri": "https://localhost:8080/"
        },
        "id": "BRG6y7RuoRvX",
        "outputId": "55b18b4e-7731-4763-87f3-2a755eba4aab"
      },
      "source": [
        "\"\"\"The break Statement-With the break statement we can stop the loop even if the while condition is true:\"\"\"\r\n",
        "#Exit the loop when i is 3:\r\n",
        "i=1\r\n",
        "while i<6:\r\n",
        "  print(i)\r\n",
        "  if i==3:\r\n",
        "    break\r\n",
        "  i+=1  \r\n",
        "\r\n",
        "\r\n"
      ],
      "execution_count": 80,
      "outputs": [
        {
          "output_type": "stream",
          "text": [
            "1\n",
            "2\n",
            "3\n"
          ],
          "name": "stdout"
        }
      ]
    },
    {
      "cell_type": "code",
      "metadata": {
        "colab": {
          "base_uri": "https://localhost:8080/"
        },
        "id": "urFiiL2eo-_C",
        "outputId": "8b4b426f-d81d-4a72-dd03-5ef345a383f5"
      },
      "source": [
        "\"\"\"The continue Statement\r\n",
        "With the continue statement we can stop the current iteration, and continue with the next:\"\"\"\r\n",
        "#Continue to the next iteration if i is 3:\r\n",
        "i=0\r\n",
        "while i<6:\r\n",
        "  i+=1\r\n",
        "  if i==3:\r\n",
        "     continue\r\n",
        "  print(i)  "
      ],
      "execution_count": 89,
      "outputs": [
        {
          "output_type": "stream",
          "text": [
            "1\n",
            "2\n",
            "4\n",
            "5\n",
            "6\n"
          ],
          "name": "stdout"
        }
      ]
    },
    {
      "cell_type": "code",
      "metadata": {
        "colab": {
          "base_uri": "https://localhost:8080/"
        },
        "id": "f4asdegOp-cT",
        "outputId": "48a530e0-f6ce-45ea-d4b3-1051adc27203"
      },
      "source": [
        "\"\"\"The else Statement\r\n",
        "With the else statement we can run a block of code once when the condition no longer is true:\"\"\"\r\n",
        "#Print a message once the condition is false:\r\n",
        "\r\n",
        "i=1\r\n",
        "while i<6:\r\n",
        "  print(i)\r\n",
        "  i+=1\r\n",
        "else:\r\n",
        "  print(\"i is no longer less than 6\")#Print a message once the condition is false:\r\n",
        "\r\n"
      ],
      "execution_count": 92,
      "outputs": [
        {
          "output_type": "stream",
          "text": [
            "1\n",
            "2\n",
            "3\n",
            "4\n",
            "5\n",
            "i is no longer less than 6\n"
          ],
          "name": "stdout"
        }
      ]
    },
    {
      "cell_type": "markdown",
      "metadata": {
        "id": "e8RckcOusOVH"
      },
      "source": [
        "FOR LOOP"
      ]
    },
    {
      "cell_type": "code",
      "metadata": {
        "colab": {
          "base_uri": "https://localhost:8080/"
        },
        "id": "_zWS1aZPsQp3",
        "outputId": "7c40b005-a7e5-477e-e7fd-91fb00a15c61"
      },
      "source": [
        "\"\"\"Python For Loops\r\n",
        "A for loop is used for iterating over a sequence (that is either a list, a tuple, a dictionary, a set, or a string).\r\n",
        "This is less like the for keyword in other programming languages, and works more like an iterator method as found in \r\n",
        "other object-orientated programming languages.\r\n",
        "With the for loop we can execute a set of statements, once for each item in a list, tuple, set etc.\"\"\"\r\n",
        "#Print each fruit in a fruit list:\r\n",
        "\r\n",
        "fruits = [\"apple\", \"banana\", \"cherry\"]\r\n",
        "for x in fruits:\r\n",
        "  print(x)  #The for loop does not require an indexing variable to set beforehand.\r\n",
        "\r\n",
        "\r\n"
      ],
      "execution_count": 93,
      "outputs": [
        {
          "output_type": "stream",
          "text": [
            "apple\n",
            "banana\n",
            "cherry\n"
          ],
          "name": "stdout"
        }
      ]
    },
    {
      "cell_type": "code",
      "metadata": {
        "colab": {
          "base_uri": "https://localhost:8080/"
        },
        "id": "Tra4vrFssuU4",
        "outputId": "1c0dc38a-c84b-4017-8401-23ea4f837f12"
      },
      "source": [
        "\"\"\"Looping Through a String\r\n",
        "Even strings are iterable objects, they contain a sequence of characters:\"\"\"\r\n",
        "#Loop through the letters in the word \"banana\":\r\n",
        "fruits = [\"apple\", \"banana\", \"cherry\"]\r\n",
        "for x in \"banana\":\r\n",
        "  print(x)  \r\n"
      ],
      "execution_count": 95,
      "outputs": [
        {
          "output_type": "stream",
          "text": [
            "b\n",
            "a\n",
            "n\n",
            "a\n",
            "n\n",
            "a\n"
          ],
          "name": "stdout"
        }
      ]
    },
    {
      "cell_type": "code",
      "metadata": {
        "colab": {
          "base_uri": "https://localhost:8080/"
        },
        "id": "FtZkO7vjtjz2",
        "outputId": "6de9f2a4-a00d-401d-8c45-738906a40d00"
      },
      "source": [
        "\"\"\"The break Statement\r\n",
        "With the break statement we can stop the loop before it has looped through all the items:\r\n",
        "Exit the loop when x is \"banana.\"\"\"\r\n",
        "\r\n",
        "fruits = [\"apple\", \"banana\", \"cherry\"]\r\n",
        "for x in fruits:\r\n",
        "  print(x) \r\n",
        "  if x==\"banana\":\r\n",
        "    break \r\n"
      ],
      "execution_count": 100,
      "outputs": [
        {
          "output_type": "stream",
          "text": [
            "apple\n",
            "banana\n"
          ],
          "name": "stdout"
        }
      ]
    },
    {
      "cell_type": "code",
      "metadata": {
        "colab": {
          "base_uri": "https://localhost:8080/"
        },
        "id": "1OnymTGaucKM",
        "outputId": "252d4c59-4e75-490e-9f64-0c43a5754793"
      },
      "source": [
        "\"\"\"Exit the loop when x is \"banana\", but this time the break comes before the print.\"\"\"\r\n",
        "fruits = [\"apple\", \"banana\", \"cherry\"]\r\n",
        "for x in fruits: \r\n",
        "  if x==\"banana\":\r\n",
        "    break \r\n",
        "  print(x)\r\n"
      ],
      "execution_count": 102,
      "outputs": [
        {
          "output_type": "stream",
          "text": [
            "apple\n"
          ],
          "name": "stdout"
        }
      ]
    },
    {
      "cell_type": "code",
      "metadata": {
        "colab": {
          "base_uri": "https://localhost:8080/"
        },
        "id": "qIph_8opu0EY",
        "outputId": "ef530600-c796-4f54-82ec-28a4bb440c32"
      },
      "source": [
        "\"\"\"The continue Statement-With the continue statement we can stop the current iteration of the loop, and continue with the next.\"\"\"\r\n",
        "#Do not print banana:\r\n",
        "fruits = [\"apple\", \"banana\", \"cherry\"]\r\n",
        "for x in fruits:\r\n",
        "  if x==\"banana\":\r\n",
        "    continue\r\n",
        "  print(x)\r\n",
        "  \r\n",
        "\r\n"
      ],
      "execution_count": 105,
      "outputs": [
        {
          "output_type": "stream",
          "text": [
            "apple\n",
            "cherry\n"
          ],
          "name": "stdout"
        }
      ]
    },
    {
      "cell_type": "code",
      "metadata": {
        "colab": {
          "base_uri": "https://localhost:8080/"
        },
        "id": "lRP5pIuOvtZy",
        "outputId": "cfdfa6d3-5fe6-4cbc-ee6a-f14f6d766c53"
      },
      "source": [
        "\"\"\"The range() Function-To loop through a set of code a specified number of times, we can use the range() function,\r\n",
        "The range() function returns a sequence of numbers, starting from 0 by default, and increments by 1 (by default), and ends at a specified number.\"\"\"\r\n",
        "#Using the range() function:\r\n",
        "for x in range(6):\r\n",
        "  print(x) #Note that range(6) is not the values of 0 to 6, but the values 0 to 5."
      ],
      "execution_count": 109,
      "outputs": [
        {
          "output_type": "stream",
          "text": [
            "0\n",
            "1\n",
            "2\n",
            "3\n",
            "4\n",
            "5\n"
          ],
          "name": "stdout"
        }
      ]
    },
    {
      "cell_type": "code",
      "metadata": {
        "colab": {
          "base_uri": "https://localhost:8080/"
        },
        "id": "OIdmmyOLwYCv",
        "outputId": "6f517548-b03b-4e5e-cf77-440ecbc495eb"
      },
      "source": [
        "\"\"\"The range() function defaults to 0 as a starting value, however it is possible to specify the starting value by adding a \r\n",
        "parameter: range(2, 6), which means values from 2 to 6 (but not including 6).\"\"\"\r\n",
        "#Using the start parameter:\r\n",
        "\r\n",
        "for x in range(2, 6):\r\n",
        "  print(x)"
      ],
      "execution_count": 110,
      "outputs": [
        {
          "output_type": "stream",
          "text": [
            "2\n",
            "3\n",
            "4\n",
            "5\n"
          ],
          "name": "stdout"
        }
      ]
    },
    {
      "cell_type": "code",
      "metadata": {
        "colab": {
          "base_uri": "https://localhost:8080/"
        },
        "id": "dtxd07rXwpKl",
        "outputId": "887add43-3f37-4c0f-e6a6-396a96d8cdcb"
      },
      "source": [
        "\"\"\"The range() function defaults to increment the sequence by 1, however it is possible to specify the increment \r\n",
        "value by adding a third parameter: range(2, 30, 3).\"\"\"\r\n",
        "#Increment the sequence with 3 (default is 1):\r\n",
        "\r\n",
        "for x in range(2, 30, 3):\r\n",
        "  print(x)\r\n"
      ],
      "execution_count": 111,
      "outputs": [
        {
          "output_type": "stream",
          "text": [
            "2\n",
            "5\n",
            "8\n",
            "11\n",
            "14\n",
            "17\n",
            "20\n",
            "23\n",
            "26\n",
            "29\n"
          ],
          "name": "stdout"
        }
      ]
    },
    {
      "cell_type": "code",
      "metadata": {
        "colab": {
          "base_uri": "https://localhost:8080/"
        },
        "id": "bm5wPqXwxJQ1",
        "outputId": "d60a9dd1-c3c3-4232-9197-cc5f2fce12d8"
      },
      "source": [
        "\"\"\"Else in For Loop-The else keyword in a for loop specifies a block of code to be executed when the loop is finished.\"\"\"\r\n",
        "#Print all numbers from 0 to 5, and print a message when the loop has ended:\r\n",
        "\r\n",
        "for x in range(6):\r\n",
        "  print(x)\r\n",
        "else:\r\n",
        "  print(\"Finally finished!\")\r\n"
      ],
      "execution_count": 112,
      "outputs": [
        {
          "output_type": "stream",
          "text": [
            "0\n",
            "1\n",
            "2\n",
            "3\n",
            "4\n",
            "5\n",
            "Finally finished!\n"
          ],
          "name": "stdout"
        }
      ]
    },
    {
      "cell_type": "code",
      "metadata": {
        "colab": {
          "base_uri": "https://localhost:8080/"
        },
        "id": "sOskscn2xZYk",
        "outputId": "1b290e67-fdb3-4dc3-f870-fdbcdcb2d736"
      },
      "source": [
        "\"\"\"The else block will NOT be executed if the loop is stopped by a break statement.\r\n",
        "Break the loop when x is 3, and see what happens with the else block.\"\"\"\r\n",
        "\r\n",
        "for x in range(6):\r\n",
        "  print(x)\r\n",
        "  if x == 3: break\r\n",
        "else:\r\n",
        "  print(\"Finally finished!\")\r\n"
      ],
      "execution_count": 114,
      "outputs": [
        {
          "output_type": "stream",
          "text": [
            "0\n",
            "1\n",
            "2\n",
            "3\n"
          ],
          "name": "stdout"
        }
      ]
    },
    {
      "cell_type": "code",
      "metadata": {
        "colab": {
          "base_uri": "https://localhost:8080/"
        },
        "id": "TbM1NWNYydmY",
        "outputId": "c47d41a3-a564-4e11-f06b-6cf8d215e925"
      },
      "source": [
        "\"\"\"Nested Loops-A nested loop is a loop inside a loop.\r\n",
        "The \"inner loop\" will be executed one time for each iteration of the \"outer loop\".\"\"\"\r\n",
        "#Print each adjective for every fruit:\r\n",
        "\r\n",
        "adj = [\"red\", \"big\", \"tasty\"]\r\n",
        "fruits = [\"apple\", \"banana\", \"cherry\"]\r\n",
        "for x in adj:\r\n",
        "  for y in fruits:\r\n",
        "    print(x, y)\r\n"
      ],
      "execution_count": 116,
      "outputs": [
        {
          "output_type": "stream",
          "text": [
            "red apple\n",
            "red banana\n",
            "red cherry\n",
            "big apple\n",
            "big banana\n",
            "big cherry\n",
            "tasty apple\n",
            "tasty banana\n",
            "tasty cherry\n"
          ],
          "name": "stdout"
        }
      ]
    },
    {
      "cell_type": "code",
      "metadata": {
        "id": "L9yrpShezXsd"
      },
      "source": [
        "\"\"\"The pass Statement-for loops cannot be empty, but if you for some reason have a for loop with no content, \r\n",
        "put in the pass statement to avoid getting an error.\"\"\"\r\n",
        "for x in [0, 1, 2]:\r\n",
        "  pass\r\n"
      ],
      "execution_count": 118,
      "outputs": []
    }
  ]
}