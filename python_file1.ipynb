{
  "nbformat": 4,
  "nbformat_minor": 0,
  "metadata": {
    "colab": {
      "name": "python file1.ipynb",
      "provenance": [],
      "collapsed_sections": [],
      "authorship_tag": "ABX9TyNaBfhhIsQv5b0Nt1Fw0F/q",
      "include_colab_link": true
    },
    "kernelspec": {
      "name": "python3",
      "display_name": "Python 3"
    }
  },
  "cells": [
    {
      "cell_type": "markdown",
      "metadata": {
        "id": "view-in-github",
        "colab_type": "text"
      },
      "source": [
        "<a href=\"https://colab.research.google.com/github/baladevikumar16/renewal-system/blob/master/python_file1.ipynb\" target=\"_parent\"><img src=\"https://colab.research.google.com/assets/colab-badge.svg\" alt=\"Open In Colab\"/></a>"
      ]
    },
    {
      "cell_type": "code",
      "metadata": {
        "id": "Jw2PSHHzPPkT"
      },
      "source": [
        ""
      ],
      "execution_count": null,
      "outputs": []
    },
    {
      "cell_type": "markdown",
      "metadata": {
        "id": "ELoqsgIxP7s0"
      },
      "source": [
        "\r\n",
        "\r\n"
      ]
    },
    {
      "cell_type": "code",
      "metadata": {
        "colab": {
          "base_uri": "https://localhost:8080/"
        },
        "id": "pD6T4xtrQDuv",
        "outputId": "6f3706ca-c76b-4207-b026-5a0f7381c91a"
      },
      "source": [
        "print(\"Hello\")\r\n"
      ],
      "execution_count": null,
      "outputs": [
        {
          "output_type": "stream",
          "text": [
            "Hello\n"
          ],
          "name": "stdout"
        }
      ]
    },
    {
      "cell_type": "code",
      "metadata": {
        "colab": {
          "base_uri": "https://localhost:8080/"
        },
        "id": "WvlPRU2nQOsy",
        "outputId": "32d5a80e-c00e-4bd4-9a05-1d96f7d6cb05"
      },
      "source": [
        "a=12\r\n",
        "print(a)\r\n",
        "type(a)"
      ],
      "execution_count": null,
      "outputs": [
        {
          "output_type": "stream",
          "text": [
            "12\n"
          ],
          "name": "stdout"
        },
        {
          "output_type": "execute_result",
          "data": {
            "text/plain": [
              "int"
            ]
          },
          "metadata": {
            "tags": []
          },
          "execution_count": 2
        }
      ]
    },
    {
      "cell_type": "code",
      "metadata": {
        "colab": {
          "base_uri": "https://localhost:8080/"
        },
        "id": "QvRcpQ5IQYZX",
        "outputId": "33db43f6-98a2-463e-8d43-3185dbc34b0c"
      },
      "source": [
        "b=12.998\r\n",
        "print(b)\r\n",
        "type(b)\r\n"
      ],
      "execution_count": null,
      "outputs": [
        {
          "output_type": "stream",
          "text": [
            "12.998\n"
          ],
          "name": "stdout"
        },
        {
          "output_type": "execute_result",
          "data": {
            "text/plain": [
              "float"
            ]
          },
          "metadata": {
            "tags": []
          },
          "execution_count": 3
        }
      ]
    },
    {
      "cell_type": "code",
      "metadata": {
        "colab": {
          "base_uri": "https://localhost:8080/"
        },
        "id": "X63RZC4oQf95",
        "outputId": "ca74d2ae-abc1-40aa-eaeb-ce1389b5cd2b"
      },
      "source": [
        "st=\"Hi everyone\"\r\n",
        "print(st)\r\n",
        "type(st)"
      ],
      "execution_count": null,
      "outputs": [
        {
          "output_type": "stream",
          "text": [
            "Hi everyone\n"
          ],
          "name": "stdout"
        },
        {
          "output_type": "execute_result",
          "data": {
            "text/plain": [
              "str"
            ]
          },
          "metadata": {
            "tags": []
          },
          "execution_count": 4
        }
      ]
    },
    {
      "cell_type": "markdown",
      "metadata": {
        "id": "3x-rnyqdR4Rc"
      },
      "source": [
        "#LISTS\r\n"
      ]
    },
    {
      "cell_type": "markdown",
      "metadata": {
        "id": "-IyAbIUCSENl"
      },
      "source": [
        "#Creating list\r\n",
        "#Accesing elements from list\r\n",
        "#updating list\r\n",
        "#Deleting elements from list"
      ]
    },
    {
      "cell_type": "markdown",
      "metadata": {
        "id": "wkXaEmbESX7H"
      },
      "source": [
        ""
      ]
    },
    {
      "cell_type": "code",
      "metadata": {
        "colab": {
          "base_uri": "https://localhost:8080/"
        },
        "id": "gQBk6L_XVLIx",
        "outputId": "ea2565fb-c8dc-49f6-d71e-3a7b95d3cd36"
      },
      "source": [
        "list1=[\"k\",\"l\",\"m\",\"n\",\"d\",\"e\",\"f\",\"g\",\"h\",\"i\"]\r\n",
        "print(\"list1[0]\",list1[0])#accessing elements\r\n",
        "print(\"list1[2:7]\",list1[2:7])\r\n",
        "print(\"The second value of the list is:\")#updating elements\r\n",
        "print(list1[1])\r\n",
        "list1[1]=\"o\"\r\n",
        "print(\"The second value after updating is:\")\r\n",
        "print(list1[1])\r\n",
        "print(list1)\r\n",
        "#deleting element from list\r\n",
        "del list1[8] #del list name[index value]\r\n",
        "print(\"After deleting the 8th value is:\")\r\n",
        "print(list1)\r\n",
        "del list1[2:7]\r\n",
        "print(list1)\r\n",
        "del list1[0:11]\r\n",
        "print(list1)\r\n",
        "print(type(list1))\r\n"
      ],
      "execution_count": 65,
      "outputs": [
        {
          "output_type": "stream",
          "text": [
            "list1[0] k\n",
            "list1[2:7] ['m', 'n', 'd', 'e', 'f']\n",
            "The second value of the list is:\n",
            "l\n",
            "The second value after updating is:\n",
            "o\n",
            "['k', 'o', 'm', 'n', 'd', 'e', 'f', 'g', 'h', 'i']\n",
            "After deleting the 8th value is:\n",
            "['k', 'o', 'm', 'n', 'd', 'e', 'f', 'g', 'i']\n",
            "['k', 'o', 'g', 'i']\n",
            "[]\n",
            "<class 'list'>\n"
          ],
          "name": "stdout"
        }
      ]
    },
    {
      "cell_type": "code",
      "metadata": {
        "colab": {
          "base_uri": "https://localhost:8080/"
        },
        "id": "ZJRhxJJWVwgG",
        "outputId": "ef03a3b7-4457-48d8-ce46-5c4e8df5c4e4"
      },
      "source": [
        "list2=[0,1,2,3,7.8,9.2,6,7,8,667,111]\r\n",
        "print(\"list2[0]\",list2[0])#accessing elements\r\n",
        "print(\"list2[2:7]\",list2[2:7])\r\n",
        "print(\"The second value of the list is:\")#updating elements\r\n",
        "print(list2[1])\r\n",
        "list2[1]=23\r\n",
        "print(\"The second value after updating is:\")\r\n",
        "print(list2[1])\r\n",
        "print(list2)\r\n",
        "#deleting element from list\r\n",
        "del list2[8]#del list name[index value]\r\n",
        "print(\"After deleting the 8th value is:\")\r\n",
        "print(list2)"
      ],
      "execution_count": 22,
      "outputs": [
        {
          "output_type": "stream",
          "text": [
            "list2[0] 0\n",
            "list2[2:7] [2, 3, 7.8, 9.2, 6]\n",
            "The second value of the list is:\n",
            "1\n",
            "The second value after updating is:\n",
            "23\n",
            "[0, 23, 2, 3, 7.8, 9.2, 6, 7, 8, 667, 111]\n",
            "After deleting the 8th value is:\n",
            "[0, 23, 2, 3, 7.8, 9.2, 6, 7, 667, 111]\n"
          ],
          "name": "stdout"
        }
      ]
    },
    {
      "cell_type": "markdown",
      "metadata": {
        "id": "FNZQj0G7ax6j"
      },
      "source": [
        "TUPLES\r\n",
        "#Creating tuples\r\n",
        "#Accesing elements from tuples\r\n",
        "#updating tuples\r\n",
        "#Deleting elements from tuples\r\n"
      ]
    },
    {
      "cell_type": "code",
      "metadata": {
        "colab": {
          "base_uri": "https://localhost:8080/"
        },
        "id": "vLIULPvbbNjZ",
        "outputId": "85dc078b-da56-47cd-80f3-1dd14d06f01b"
      },
      "source": [
        "tupa1=(\"k\",\"l\",\"m\",\"n\",\"d\",\"e\",\"f\",\"g\",\"h\",\"i\")#creating tuples\r\n",
        "print(tupa1)\r\n",
        "print(\"tupa1[0]\",tupa1[0])#accessing elements from tuples\r\n",
        "print(\"tupa1[2:7]\",tupa1[2:7])\r\n",
        "#updating elements from tuples\r\n",
        "#They are immutable, i.e., the values can't be changed directly. So we can just update by joining tuples. Let's demonstrate this with an example:\r\n",
        "print(\"Updating elements in tuple by joining two tuples\")\r\n",
        "tupa1=(\"k\",\"l\",\"m\",\"n\",\"d\",\"e\",\"f\",\"g\",\"h\",\"i\")\r\n",
        "tupa2=(\"ab\",1,7)\r\n",
        "tupa3=tupa1+tupa2\r\n",
        "print(tupa3)\r\n",
        "#deleting elements from tuples\r\n",
        "print(tupa2)\r\n",
        "del tupa2 #del tup name\r\n",
        "#print(tupa2)-if you print the tupa2 after del you will get error\r\n"
      ],
      "execution_count": 54,
      "outputs": [
        {
          "output_type": "stream",
          "text": [
            "('k', 'l', 'm', 'n', 'd', 'e', 'f', 'g', 'h', 'i')\n",
            "tupa1[0] k\n",
            "tupa1[2:7] ('m', 'n', 'd', 'e', 'f')\n",
            "Updating elements in tuple by joining two tuples\n",
            "('k', 'l', 'm', 'n', 'd', 'e', 'f', 'g', 'h', 'i', 'ab', 1, 7)\n",
            "('ab', 1, 7)\n"
          ],
          "name": "stdout"
        }
      ]
    },
    {
      "cell_type": "code",
      "metadata": {
        "colab": {
          "base_uri": "https://localhost:8080/"
        },
        "id": "oNGJC9bcbgeF",
        "outputId": "d071a8e0-6beb-4f6f-8aa7-d26776fe1ae2"
      },
      "source": [
        "tup2a=(0,1,2,3,7.8,9.2,6,7,8,667,111)#creating tuples\r\n",
        "print(tup2a)\r\n",
        "print(\"tup2a[0]\",tup2a[0])#accessing elements from tuples\r\n",
        "print(\"tup2a[2:7]\",tup2a[2:7])\r\n",
        "#updating elements from tuples\r\n",
        "#They are immutable, i.e., the values can't be changed directly. So we can just update by joining tuples. Let's demonstrate this with an example:\r\n",
        "print(\"Updating elements in tuple by joining two tuples\")\r\n",
        "tup2a=(0,1,2,3,7.8,9.2,6,7,8,667,111)\r\n",
        "tup2b=(\"ab\",4,7,\"bh\")\r\n",
        "tup2c=tup2a+tup2b\r\n",
        "print(tup2c)\r\n",
        "#deleting elements from tuples\r\n",
        "print(tup2c)\r\n",
        "del tup2c#del tup name\r\n",
        "#print(tup2c)-if you print the tup2c after del you will get error\r\n"
      ],
      "execution_count": 56,
      "outputs": [
        {
          "output_type": "stream",
          "text": [
            "(0, 1, 2, 3, 7.8, 9.2, 6, 7, 8, 667, 111)\n",
            "tup2a[0] 0\n",
            "tup2a[2:7] (2, 3, 7.8, 9.2, 6)\n",
            "Updating elements in tuple by joining two tuples\n",
            "(0, 1, 2, 3, 7.8, 9.2, 6, 7, 8, 667, 111, 'ab', 4, 7, 'bh')\n",
            "(0, 1, 2, 3, 7.8, 9.2, 6, 7, 8, 667, 111, 'ab', 4, 7, 'bh')\n"
          ],
          "name": "stdout"
        }
      ]
    },
    {
      "cell_type": "markdown",
      "metadata": {
        "id": "Hc8Ocbowjdby"
      },
      "source": [
        "#DICTIONARY\r\n",
        "#CREATING DICT\r\n",
        "#DICT OPERATIONS\r\n",
        "#ACCESSING ELEMENTS IN DICT\r\n",
        "#APPEND ELEMENTS IN A DICT(ASSIGNMENT METHOD,UPDATE METHOD)\r\n",
        "#UPDATING ELEMENTS IN DICT(ASSIGNMENT METHOD,UPDATE METHOD)\r\n",
        "#REMOVING ELEMENTS IN DICT\r\n",
        "#DICT ATTRIBUTES\r\n",
        "#ITERATE DICT\r\n",
        "#DICT COMPREHENSION\r\n",
        "#MEMBERSHIP TEST"
      ]
    },
    {
      "cell_type": "code",
      "metadata": {
        "colab": {
          "base_uri": "https://localhost:8080/"
        },
        "id": "adLOuaV8k0sJ",
        "outputId": "7da451eb-692a-4e2d-f560-d5717314d73f"
      },
      "source": [
        "#CREATING DICT\r\n",
        "thisdict = {\r\n",
        "  \"brand\": \"Ford\",\r\n",
        "  \"model\": \"Mustang\",\r\n",
        "  \"year\": 1964\r\n",
        "}\r\n",
        "print(thisdict)\r\n",
        "#dict items\r\n",
        "print(thisdict[\"brand\"])\r\n",
        "#Unordered-When we say that dictionaries are unordered, it means that the items does not have a defined order, you cannot refer to an item by using an index.\r\n",
        "#Changeable-Dictionaries are changeable, meaning that we can change, add or remove items after the dictionary has been created.\r\n",
        "#Duplicates-Not Allowed-Dictionaries cannot have two items with the same key:-Duplicate values will overwrite existing values:\r\n",
        "thisdict1 = {\r\n",
        "  \"brand\": \"Ford\",\r\n",
        "  \"model\": \"Mustang\",\r\n",
        "  \"year\": 1964,\r\n",
        "  \"year\":2020\r\n",
        "}\r\n",
        "print(thisdict1)\r\n",
        "#Dictionary Length-To determine how many items a dictionary has, use the len() function:-Print the number of items in the dictionary:\r\n",
        "print(thisdict)\r\n",
        "print(len(thisdict))\r\n",
        "#Dictionary Items - Data Types-The values in dictionary items can be of any data type:-String, int, boolean, and list data types:\r\n",
        "thisdict = {\r\n",
        "  \"brand\": \"Ford\",\r\n",
        "  \"electric\": False,\r\n",
        "  \"year\": 1964,\r\n",
        "  \"colors\": [\"red\", \"white\", \"blue\"]\r\n",
        "}\r\n",
        "print(thisdict)\r\n",
        "#type()-From Python's perspective, dictionaries are defined as objects with the data type 'dict':\r\n",
        "#Print the data type of a dictionary:\r\n",
        "thisdict = {\r\n",
        "  \"brand\": \"Ford\",\r\n",
        "  \"model\": \"Mustang\",\r\n",
        "  \"year\": 1964\r\n",
        "}\r\n",
        "print(type(thisdict))\r\n",
        "#Accesing elements in a dict-You can access the items of a dictionary by referring to its key name, inside square brackets:\r\n",
        "thisdict2 = {\r\n",
        "  \"brand\": \"Ford\",\r\n",
        "  \"model\": \"Mustang\",\r\n",
        "  \"year\": 1964\r\n",
        "}\r\n",
        "#printing the value,by using using their key names\r\n",
        "x = thisdict2[\"model\"]\r\n",
        "print(x)\r\n",
        "x1=thisdict2.get(\"model\")#get method\r\n",
        "print(x1)\r\n",
        "y=thisdict2.keys()#keys names\r\n",
        "print(y)\r\n",
        "#The list of the keys is a view of the dictionary, meaning that any changes done to the dictionary will be reflected in the keys list.-Add a new item\r\n",
        "#to the original dictionary, and see that the value list gets updated as well:\r\n",
        "car = {\r\n",
        "\"brand\": \"Ford\",\r\n",
        "\"model\": \"Mustang\",\r\n",
        "\"year\": 1964\r\n",
        "}\r\n",
        "x = car.keys()\r\n",
        "print(x) #before the change\r\n",
        "car[\"color\"] = \"white\"\r\n",
        "car[\"year\"]=2020\r\n",
        "car[\"fuel\"]=\"petrol\"\r\n",
        "print(x) #after the change\r\n",
        "u=car#print all the keys and their values\r\n",
        "print(u)\r\n",
        "#Get Values-The values() method will return a list of all the values in the dictionary-Get a list of the values:\r\n",
        "y1=car.values()#values of keys\r\n",
        "print(y1)\r\n",
        "#The list of the values is a view of the dictionary, meaning that any changes done to the dictionary will be reflected in the values list-Add a new item\r\n",
        "# to the original dictionary, and see that the keys list gets updated as well:\r\n",
        "\r\n",
        "#Add a new item to the original dictionary, and see that the keys list gets updated as well:\r\n",
        "car = {\r\n",
        "\"brand\": \"Ford\",\r\n",
        "\"model\": \"Mustang\",\r\n",
        "\"year\": 1964\r\n",
        "}\r\n",
        "x = car.values()\r\n",
        "print(x) #before the change\r\n",
        "car[\"year\"] = 2020\r\n",
        "car[\"fuel\"]=\"petrol\"\r\n",
        "print(x) #after the change\r\n",
        "#Get Items-The items() method will return each item in a dictionary, as tuples in a list.-Get a list of the key:value pairs\r\n",
        "thisdict = {\r\n",
        "  \"brand\": \"Ford\",\r\n",
        "  \"model\": \"Mustang\",\r\n",
        "  \"year\": 1964\r\n",
        "}\r\n",
        "x = thisdict.items()\r\n",
        "print(x)\r\n",
        "#The returned list is a view of the items of the dictionary, meaning that any changes done to the dictionary will be reflected in the items list.\r\n",
        "#Add a new item to the original dictionary, and see that the items list gets updated as well:\r\n",
        "thisdict = {\r\n",
        "  \"brand\": \"Ford\",\r\n",
        "  \"model\": \"Mustang\",\r\n",
        "  \"year\": 1964\r\n",
        "}\r\n",
        "x = thisdict.items()\r\n",
        "print(x)#before the change\r\n",
        "thisdict[\"year\"]=2020\r\n",
        "thisdict[\"fuel\"]=\"petrol\"\r\n",
        "print(x)#after the change\r\n",
        "\r\n",
        "#Check if Key Exists-To determine if a specified key is present in a dictionary use the in keyword:\r\n",
        "#Check if \"model\" is present in the dictionary:\r\n",
        "thisdict = {\r\n",
        "  \"brand\": \"Ford\",\r\n",
        "  \"model\": \"Mustang\",\r\n",
        "  \"year\": 1964\r\n",
        "}\r\n",
        "if \"brand\" in thisdict:\r\n",
        "    print(\"yes,brand is present in thisdict\")\r\n",
        "print(thisdict)\r\n",
        "\r\n",
        "#Change items in dict\r\n",
        "#Change Values-You can change the value of a specific item by referring to its key name:\r\n",
        "#Change the \"year\" to 2018:\r\n",
        "\r\n",
        "thisdict = {\r\n",
        "  \"brand\": \"Ford\",\r\n",
        "  \"model\": \"Mustang\",\r\n",
        "  \"year\": 1964\r\n",
        "}\r\n",
        "thisdict[\"year\"] = 2018\r\n",
        "print(thisdict)\r\n",
        "\r\n",
        "#Update Dictionary-The update() method will update the dictionary with the items from the given argument.\r\n",
        "#The argument must be a dictionary, or an iterable object with key:value pairs.\r\n",
        "#Update the \"year\" of the car by using the update() method:\r\n",
        "\r\n",
        "thisdict = {\r\n",
        "  \"brand\": \"Ford\",\r\n",
        "  \"model\": \"Mustang\",\r\n",
        "  \"year\": 1964\r\n",
        "}\r\n",
        "thisdict.update({\"year\": 2020})#both are same for updating a val to the model\r\n",
        "thisdict[\"model\"]=\"xxx2\"\r\n",
        "print(thisdict)\r\n",
        "\r\n",
        "#Adding Items\r\n",
        "#Adding an item to the dictionary is done by using a new index key and assigning a value to it:\r\n",
        "thisdict = {\r\n",
        "  \"brand\": \"Ford\",\r\n",
        "  \"model\": \"Mustang\",\r\n",
        "  \"year\": 1964\r\n",
        "}\r\n",
        "thisdict[\"fuel\"]=\"petrol\"\r\n",
        "print(thisdict)\r\n",
        "thisdict.update({\"color\":\"white\"})#Update Dictionary-The update() method will update the dictionary with the items from a given argument. \r\n",
        "#If the item does not exist, the item will be added.\r\n",
        "#The argument must be a dictionary, or an iterable object with key:value pairs-Add a color item to the dictionary by using the update() method:\r\n",
        "print(thisdict)\r\n",
        "\r\n",
        "#Removing element from dict\r\n"
      ],
      "execution_count": 93,
      "outputs": [
        {
          "output_type": "stream",
          "text": [
            "{'brand': 'Ford', 'model': 'Mustang', 'year': 1964}\n",
            "Ford\n",
            "{'brand': 'Ford', 'model': 'Mustang', 'year': 2020}\n",
            "{'brand': 'Ford', 'model': 'Mustang', 'year': 1964}\n",
            "3\n",
            "{'brand': 'Ford', 'electric': False, 'year': 1964, 'colors': ['red', 'white', 'blue']}\n",
            "<class 'dict'>\n",
            "Mustang\n",
            "Mustang\n",
            "dict_keys(['brand', 'model', 'year'])\n",
            "dict_keys(['brand', 'model', 'year'])\n",
            "dict_keys(['brand', 'model', 'year', 'color', 'fuel'])\n",
            "{'brand': 'Ford', 'model': 'Mustang', 'year': 2020, 'color': 'white', 'fuel': 'petrol'}\n",
            "dict_values(['Ford', 'Mustang', 2020, 'white', 'petrol'])\n",
            "dict_values(['Ford', 'Mustang', 1964])\n",
            "dict_values(['Ford', 'Mustang', 2020, 'petrol'])\n",
            "dict_items([('brand', 'Ford'), ('model', 'Mustang'), ('year', 1964)])\n",
            "dict_items([('brand', 'Ford'), ('model', 'Mustang'), ('year', 1964)])\n",
            "dict_items([('brand', 'Ford'), ('model', 'Mustang'), ('year', 2020), ('fuel', 'petrol')])\n",
            "yes,brand is present in thisdict\n",
            "{'brand': 'Ford', 'model': 'Mustang', 'year': 1964}\n",
            "{'brand': 'Ford', 'model': 'Mustang', 'year': 2018}\n",
            "{'brand': 'Ford', 'model': 'xxx2', 'year': 2020}\n",
            "{'brand': 'Ford', 'model': 'Mustang', 'year': 1964, 'fuel': 'petrol'}\n",
            "{'brand': 'Ford', 'model': 'Mustang', 'year': 1964, 'fuel': 'petrol', 'color': 'white'}\n"
          ],
          "name": "stdout"
        }
      ]
    }
  ]
}