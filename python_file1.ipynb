{
  "nbformat": 4,
  "nbformat_minor": 0,
  "metadata": {
    "colab": {
      "name": "python file1.ipynb",
      "provenance": [],
      "collapsed_sections": [],
      "authorship_tag": "ABX9TyMnTrWrKysAbZyeDSulGqAh",
      "include_colab_link": true
    },
    "kernelspec": {
      "name": "python3",
      "display_name": "Python 3"
    }
  },
  "cells": [
    {
      "cell_type": "markdown",
      "metadata": {
        "id": "view-in-github",
        "colab_type": "text"
      },
      "source": [
        "<a href=\"https://colab.research.google.com/github/baladevikumar16/renewal-system/blob/master/python_file1.ipynb\" target=\"_parent\"><img src=\"https://colab.research.google.com/assets/colab-badge.svg\" alt=\"Open In Colab\"/></a>"
      ]
    },
    {
      "cell_type": "code",
      "metadata": {
        "id": "Jw2PSHHzPPkT"
      },
      "source": [
        ""
      ],
      "execution_count": null,
      "outputs": []
    },
    {
      "cell_type": "markdown",
      "metadata": {
        "id": "ELoqsgIxP7s0"
      },
      "source": [
        "\r\n",
        "\r\n"
      ]
    },
    {
      "cell_type": "code",
      "metadata": {
        "colab": {
          "base_uri": "https://localhost:8080/"
        },
        "id": "pD6T4xtrQDuv",
        "outputId": "6f3706ca-c76b-4207-b026-5a0f7381c91a"
      },
      "source": [
        "print(\"Hello\")\r\n"
      ],
      "execution_count": null,
      "outputs": [
        {
          "output_type": "stream",
          "text": [
            "Hello\n"
          ],
          "name": "stdout"
        }
      ]
    },
    {
      "cell_type": "code",
      "metadata": {
        "colab": {
          "base_uri": "https://localhost:8080/"
        },
        "id": "WvlPRU2nQOsy",
        "outputId": "32d5a80e-c00e-4bd4-9a05-1d96f7d6cb05"
      },
      "source": [
        "a=12\r\n",
        "print(a)\r\n",
        "type(a)"
      ],
      "execution_count": null,
      "outputs": [
        {
          "output_type": "stream",
          "text": [
            "12\n"
          ],
          "name": "stdout"
        },
        {
          "output_type": "execute_result",
          "data": {
            "text/plain": [
              "int"
            ]
          },
          "metadata": {
            "tags": []
          },
          "execution_count": 2
        }
      ]
    },
    {
      "cell_type": "code",
      "metadata": {
        "colab": {
          "base_uri": "https://localhost:8080/"
        },
        "id": "QvRcpQ5IQYZX",
        "outputId": "33db43f6-98a2-463e-8d43-3185dbc34b0c"
      },
      "source": [
        "b=12.998\r\n",
        "print(b)\r\n",
        "type(b)\r\n"
      ],
      "execution_count": null,
      "outputs": [
        {
          "output_type": "stream",
          "text": [
            "12.998\n"
          ],
          "name": "stdout"
        },
        {
          "output_type": "execute_result",
          "data": {
            "text/plain": [
              "float"
            ]
          },
          "metadata": {
            "tags": []
          },
          "execution_count": 3
        }
      ]
    },
    {
      "cell_type": "code",
      "metadata": {
        "colab": {
          "base_uri": "https://localhost:8080/"
        },
        "id": "X63RZC4oQf95",
        "outputId": "ca74d2ae-abc1-40aa-eaeb-ce1389b5cd2b"
      },
      "source": [
        "st=\"Hi everyone\"\r\n",
        "print(st)\r\n",
        "type(st)"
      ],
      "execution_count": null,
      "outputs": [
        {
          "output_type": "stream",
          "text": [
            "Hi everyone\n"
          ],
          "name": "stdout"
        },
        {
          "output_type": "execute_result",
          "data": {
            "text/plain": [
              "str"
            ]
          },
          "metadata": {
            "tags": []
          },
          "execution_count": 4
        }
      ]
    },
    {
      "cell_type": "markdown",
      "metadata": {
        "id": "3x-rnyqdR4Rc"
      },
      "source": [
        "#LISTS\r\n"
      ]
    },
    {
      "cell_type": "markdown",
      "metadata": {
        "id": "-IyAbIUCSENl"
      },
      "source": [
        "#Creating list\r\n",
        "#Accesing elements from list\r\n",
        "#updating list\r\n",
        "#Deleting elements from list"
      ]
    },
    {
      "cell_type": "markdown",
      "metadata": {
        "id": "wkXaEmbESX7H"
      },
      "source": [
        ""
      ]
    },
    {
      "cell_type": "code",
      "metadata": {
        "colab": {
          "base_uri": "https://localhost:8080/"
        },
        "id": "gQBk6L_XVLIx",
        "outputId": "ea2565fb-c8dc-49f6-d71e-3a7b95d3cd36"
      },
      "source": [
        "list1=[\"k\",\"l\",\"m\",\"n\",\"d\",\"e\",\"f\",\"g\",\"h\",\"i\"]\r\n",
        "print(\"list1[0]\",list1[0])#accessing elements\r\n",
        "print(\"list1[2:7]\",list1[2:7])\r\n",
        "print(\"The second value of the list is:\")#updating elements\r\n",
        "print(list1[1])\r\n",
        "list1[1]=\"o\"\r\n",
        "print(\"The second value after updating is:\")\r\n",
        "print(list1[1])\r\n",
        "print(list1)\r\n",
        "#deleting element from list\r\n",
        "del list1[8] #del list name[index value]\r\n",
        "print(\"After deleting the 8th value is:\")\r\n",
        "print(list1)\r\n",
        "del list1[2:7]\r\n",
        "print(list1)\r\n",
        "del list1[0:11]\r\n",
        "print(list1)\r\n",
        "print(type(list1))\r\n"
      ],
      "execution_count": 65,
      "outputs": [
        {
          "output_type": "stream",
          "text": [
            "list1[0] k\n",
            "list1[2:7] ['m', 'n', 'd', 'e', 'f']\n",
            "The second value of the list is:\n",
            "l\n",
            "The second value after updating is:\n",
            "o\n",
            "['k', 'o', 'm', 'n', 'd', 'e', 'f', 'g', 'h', 'i']\n",
            "After deleting the 8th value is:\n",
            "['k', 'o', 'm', 'n', 'd', 'e', 'f', 'g', 'i']\n",
            "['k', 'o', 'g', 'i']\n",
            "[]\n",
            "<class 'list'>\n"
          ],
          "name": "stdout"
        }
      ]
    },
    {
      "cell_type": "code",
      "metadata": {
        "colab": {
          "base_uri": "https://localhost:8080/"
        },
        "id": "ZJRhxJJWVwgG",
        "outputId": "ef03a3b7-4457-48d8-ce46-5c4e8df5c4e4"
      },
      "source": [
        "list2=[0,1,2,3,7.8,9.2,6,7,8,667,111]\r\n",
        "print(\"list2[0]\",list2[0])#accessing elements\r\n",
        "print(\"list2[2:7]\",list2[2:7])\r\n",
        "print(\"The second value of the list is:\")#updating elements\r\n",
        "print(list2[1])\r\n",
        "list2[1]=23\r\n",
        "print(\"The second value after updating is:\")\r\n",
        "print(list2[1])\r\n",
        "print(list2)\r\n",
        "#deleting element from list\r\n",
        "del list2[8]#del list name[index value]\r\n",
        "print(\"After deleting the 8th value is:\")\r\n",
        "print(list2)"
      ],
      "execution_count": 22,
      "outputs": [
        {
          "output_type": "stream",
          "text": [
            "list2[0] 0\n",
            "list2[2:7] [2, 3, 7.8, 9.2, 6]\n",
            "The second value of the list is:\n",
            "1\n",
            "The second value after updating is:\n",
            "23\n",
            "[0, 23, 2, 3, 7.8, 9.2, 6, 7, 8, 667, 111]\n",
            "After deleting the 8th value is:\n",
            "[0, 23, 2, 3, 7.8, 9.2, 6, 7, 667, 111]\n"
          ],
          "name": "stdout"
        }
      ]
    },
    {
      "cell_type": "markdown",
      "metadata": {
        "id": "FNZQj0G7ax6j"
      },
      "source": [
        "TUPLES\r\n",
        "#Creating tuples\r\n",
        "#Accesing elements from tuples\r\n",
        "#updating tuples\r\n",
        "#Deleting elements from tuples\r\n"
      ]
    },
    {
      "cell_type": "code",
      "metadata": {
        "colab": {
          "base_uri": "https://localhost:8080/"
        },
        "id": "vLIULPvbbNjZ",
        "outputId": "85dc078b-da56-47cd-80f3-1dd14d06f01b"
      },
      "source": [
        "tupa1=(\"k\",\"l\",\"m\",\"n\",\"d\",\"e\",\"f\",\"g\",\"h\",\"i\")#creating tuples\r\n",
        "print(tupa1)\r\n",
        "print(\"tupa1[0]\",tupa1[0])#accessing elements from tuples\r\n",
        "print(\"tupa1[2:7]\",tupa1[2:7])\r\n",
        "#updating elements from tuples\r\n",
        "#They are immutable, i.e., the values can't be changed directly. So we can just update by joining tuples. Let's demonstrate this with an example:\r\n",
        "print(\"Updating elements in tuple by joining two tuples\")\r\n",
        "tupa1=(\"k\",\"l\",\"m\",\"n\",\"d\",\"e\",\"f\",\"g\",\"h\",\"i\")\r\n",
        "tupa2=(\"ab\",1,7)\r\n",
        "tupa3=tupa1+tupa2\r\n",
        "print(tupa3)\r\n",
        "#deleting elements from tuples\r\n",
        "print(tupa2)\r\n",
        "del tupa2 #del tup name\r\n",
        "#print(tupa2)-if you print the tupa2 after del you will get error\r\n"
      ],
      "execution_count": 54,
      "outputs": [
        {
          "output_type": "stream",
          "text": [
            "('k', 'l', 'm', 'n', 'd', 'e', 'f', 'g', 'h', 'i')\n",
            "tupa1[0] k\n",
            "tupa1[2:7] ('m', 'n', 'd', 'e', 'f')\n",
            "Updating elements in tuple by joining two tuples\n",
            "('k', 'l', 'm', 'n', 'd', 'e', 'f', 'g', 'h', 'i', 'ab', 1, 7)\n",
            "('ab', 1, 7)\n"
          ],
          "name": "stdout"
        }
      ]
    },
    {
      "cell_type": "code",
      "metadata": {
        "colab": {
          "base_uri": "https://localhost:8080/"
        },
        "id": "oNGJC9bcbgeF",
        "outputId": "d071a8e0-6beb-4f6f-8aa7-d26776fe1ae2"
      },
      "source": [
        "tup2a=(0,1,2,3,7.8,9.2,6,7,8,667,111)#creating tuples\r\n",
        "print(tup2a)\r\n",
        "print(\"tup2a[0]\",tup2a[0])#accessing elements from tuples\r\n",
        "print(\"tup2a[2:7]\",tup2a[2:7])\r\n",
        "#updating elements from tuples\r\n",
        "#They are immutable, i.e., the values can't be changed directly. So we can just update by joining tuples. Let's demonstrate this with an example:\r\n",
        "print(\"Updating elements in tuple by joining two tuples\")\r\n",
        "tup2a=(0,1,2,3,7.8,9.2,6,7,8,667,111)\r\n",
        "tup2b=(\"ab\",4,7,\"bh\")\r\n",
        "tup2c=tup2a+tup2b\r\n",
        "print(tup2c)\r\n",
        "#deleting elements from tuples\r\n",
        "print(tup2c)\r\n",
        "del tup2c#del tup name\r\n",
        "#print(tup2c)-if you print the tup2c after del you will get error\r\n"
      ],
      "execution_count": 56,
      "outputs": [
        {
          "output_type": "stream",
          "text": [
            "(0, 1, 2, 3, 7.8, 9.2, 6, 7, 8, 667, 111)\n",
            "tup2a[0] 0\n",
            "tup2a[2:7] (2, 3, 7.8, 9.2, 6)\n",
            "Updating elements in tuple by joining two tuples\n",
            "(0, 1, 2, 3, 7.8, 9.2, 6, 7, 8, 667, 111, 'ab', 4, 7, 'bh')\n",
            "(0, 1, 2, 3, 7.8, 9.2, 6, 7, 8, 667, 111, 'ab', 4, 7, 'bh')\n"
          ],
          "name": "stdout"
        }
      ]
    },
    {
      "cell_type": "markdown",
      "metadata": {
        "id": "Hc8Ocbowjdby"
      },
      "source": [
        "#DICTIONARY\r\n",
        "#CREATING DICT\r\n",
        "#DICT OPERATIONS\r\n",
        "#ACCESSING ELEMENTS IN DICT\r\n",
        "#APPEND ELEMENTS IN A DICT(ASSIGNMENT METHOD,UPDATE METHOD)\r\n",
        "#UPDATING ELEMENTS IN DICT(ASSIGNMENT METHOD,UPDATE METHOD)\r\n",
        "#REMOVING ELEMENTS IN DICT\r\n",
        "#DICT ATTRIBUTES\r\n",
        "#ITERATE DICT\r\n",
        "#DICT COMPREHENSION\r\n",
        "#MEMBERSHIP TEST"
      ]
    },
    {
      "cell_type": "code",
      "metadata": {
        "colab": {
          "base_uri": "https://localhost:8080/"
        },
        "id": "adLOuaV8k0sJ",
        "outputId": "aef26d82-8e0e-455e-f5b4-38ab529d0c0c"
      },
      "source": [
        "#CREATING DICT\r\n",
        "thisdict = {\r\n",
        "  \"brand\": \"Ford\",\r\n",
        "  \"model\": \"Mustang\",\r\n",
        "  \"year\": 1964\r\n",
        "}\r\n",
        "print(thisdict)\r\n",
        "#dict items\r\n",
        "print(thisdict[\"brand\"])\r\n",
        "#Unordered-When we say that dictionaries are unordered, it means that the items does not have a defined order, you cannot refer to an item by using an index.\r\n",
        "#Changeable-Dictionaries are changeable, meaning that we can change, add or remove items after the dictionary has been created.\r\n",
        "#Duplicates-Not Allowed-Dictionaries cannot have two items with the same key:-Duplicate values will overwrite existing values:\r\n",
        "thisdict1 = {\r\n",
        "  \"brand\": \"Ford\",\r\n",
        "  \"model\": \"Mustang\",\r\n",
        "  \"year\": 1964,\r\n",
        "  \"year\":2020\r\n",
        "}\r\n",
        "print(thisdict1)\r\n",
        "#Dictionary Length-To determine how many items a dictionary has, use the len() function:-Print the number of items in the dictionary:\r\n",
        "print(thisdict)\r\n",
        "print(len(thisdict))\r\n",
        "#Dictionary Items - Data Types-The values in dictionary items can be of any data type:-String, int, boolean, and list data types:\r\n",
        "thisdict = {\r\n",
        "  \"brand\": \"Ford\",\r\n",
        "  \"electric\": False,\r\n",
        "  \"year\": 1964,\r\n",
        "  \"colors\": [\"red\", \"white\", \"blue\"]\r\n",
        "}\r\n",
        "print(thisdict)\r\n",
        "#type()-From Python's perspective, dictionaries are defined as objects with the data type 'dict':\r\n",
        "#Print the data type of a dictionary:\r\n",
        "thisdict = {\r\n",
        "  \"brand\": \"Ford\",\r\n",
        "  \"model\": \"Mustang\",\r\n",
        "  \"year\": 1964\r\n",
        "}\r\n",
        "print(type(thisdict))\r\n",
        "#Accesing elements in a dict-You can access the items of a dictionary by referring to its key name, inside square brackets:\r\n",
        "thisdict2 = {\r\n",
        "  \"brand\": \"Ford\",\r\n",
        "  \"model\": \"Mustang\",\r\n",
        "  \"year\": 1964\r\n",
        "}\r\n",
        "#printing the value,by using using their key names\r\n",
        "x = thisdict2[\"model\"]\r\n",
        "print(x)\r\n",
        "x1=thisdict2.get(\"model\")#get method\r\n",
        "print(x1)\r\n",
        "y=thisdict2.keys()#keys names\r\n",
        "print(y)\r\n",
        "#The list of the keys is a view of the dictionary, meaning that any changes done to the dictionary will be reflected in the keys list.-Add a new item\r\n",
        "#to the original dictionary, and see that the value list gets updated as well:\r\n",
        "car = {\r\n",
        "\"brand\": \"Ford\",\r\n",
        "\"model\": \"Mustang\",\r\n",
        "\"year\": 1964\r\n",
        "}\r\n",
        "x = car.keys()\r\n",
        "print(x) #before the change\r\n",
        "car[\"color\"] = \"white\"\r\n",
        "car[\"year\"]=2020\r\n",
        "car[\"fuel\"]=\"petrol\"\r\n",
        "print(x) #after the change\r\n",
        "u=car#print all the keys and their values\r\n",
        "print(u)\r\n",
        "#Get Values-The values() method will return a list of all the values in the dictionary-Get a list of the values:\r\n",
        "y1=car.values()#values of keys\r\n",
        "print(y1)\r\n",
        "#The list of the values is a view of the dictionary, meaning that any changes done to the dictionary will be reflected in the values list-Add a new item\r\n",
        "# to the original dictionary, and see that the keys list gets updated as well:\r\n",
        "\r\n",
        "#Add a new item to the original dictionary, and see that the keys list gets updated as well:\r\n",
        "car = {\r\n",
        "\"brand\": \"Ford\",\r\n",
        "\"model\": \"Mustang\",\r\n",
        "\"year\": 1964\r\n",
        "}\r\n",
        "x = car.values()\r\n",
        "print(x) #before the change\r\n",
        "car[\"year\"] = 2020\r\n",
        "car[\"fuel\"]=\"petrol\"\r\n",
        "print(x) #after the change\r\n",
        "#Get Items-The items() method will return each item in a dictionary, as tuples in a list.-Get a list of the key:value pairs\r\n",
        "thisdict = {\r\n",
        "  \"brand\": \"Ford\",\r\n",
        "  \"model\": \"Mustang\",\r\n",
        "  \"year\": 1964\r\n",
        "}\r\n",
        "x = thisdict.items()\r\n",
        "print(x)\r\n",
        "#The returned list is a view of the items of the dictionary, meaning that any changes done to the dictionary will be reflected in the items list.\r\n",
        "#Add a new item to the original dictionary, and see that the items list gets updated as well:\r\n",
        "thisdict = {\r\n",
        "  \"brand\": \"Ford\",\r\n",
        "  \"model\": \"Mustang\",\r\n",
        "  \"year\": 1964\r\n",
        "}\r\n",
        "x = thisdict.items()\r\n",
        "print(x)#before the change\r\n",
        "thisdict[\"year\"]=2020\r\n",
        "thisdict[\"fuel\"]=\"petrol\"\r\n",
        "print(x)#after the change\r\n",
        "\r\n",
        "#Check if Key Exists-To determine if a specified key is present in a dictionary use the in keyword:\r\n",
        "#Check if \"model\" is present in the dictionary:\r\n",
        "thisdict = {\r\n",
        "  \"brand\": \"Ford\",\r\n",
        "  \"model\": \"Mustang\",\r\n",
        "  \"year\": 1964\r\n",
        "}\r\n",
        "if \"brand\" in thisdict:\r\n",
        "    print(\"yes,brand is present in thisdict\")\r\n",
        "print(thisdict)\r\n",
        "\r\n",
        "#Change items in dict\r\n",
        "#Change Values-You can change the value of a specific item by referring to its key name:\r\n",
        "#Change the \"year\" to 2018:\r\n",
        "\r\n",
        "thisdict = {\r\n",
        "  \"brand\": \"Ford\",\r\n",
        "  \"model\": \"Mustang\",\r\n",
        "  \"year\": 1964\r\n",
        "}\r\n",
        "thisdict[\"year\"] = 2018\r\n",
        "print(thisdict)\r\n",
        "\r\n",
        "#Update Dictionary-The update() method will update the dictionary with the items from the given argument.\r\n",
        "#The argument must be a dictionary, or an iterable object with key:value pairs.\r\n",
        "#Update the \"year\" of the car by using the update() method:\r\n",
        "\r\n",
        "thisdict = {\r\n",
        "  \"brand\": \"Ford\",\r\n",
        "  \"model\": \"Mustang\",\r\n",
        "  \"year\": 1964\r\n",
        "}\r\n",
        "thisdict.update({\"year\": 2020})#both are same for updating a val to the model\r\n",
        "thisdict[\"model\"]=\"xxx2\"\r\n",
        "print(thisdict)\r\n",
        "\r\n",
        "#Adding Items\r\n",
        "#Adding an item to the dictionary is done by using a new index key and assigning a value to it:\r\n",
        "thisdict = {\r\n",
        "  \"brand\": \"Ford\",\r\n",
        "  \"model\": \"Mustang\",\r\n",
        "  \"year\": 1964\r\n",
        "}\r\n",
        "thisdict[\"fuel\"]=\"petrol\"\r\n",
        "print(thisdict)\r\n",
        "thisdict.update({\"color\":\"white\"})#Update Dictionary-The update() method will update the dictionary with the items from a given argument. \r\n",
        "#If the item does not exist, the item will be added.\r\n",
        "#The argument must be a dictionary, or an iterable object with key:value pairs-Add a color item to the dictionary by using the update() method:\r\n",
        "print(thisdict)\r\n",
        "\r\n",
        "#Removing element from dict(pop,popitem,clear,del)\r\n",
        "#Removing Items-There are several methods to remove items from a dictionary:\r\n",
        "#The pop() method removes the item with the specified key name:\r\n",
        "thisdict = {\r\n",
        "  \"brand\": \"Ford\",\r\n",
        "  \"model\": \"Mustang\",\r\n",
        "  \"year\": 1964\r\n",
        "}\r\n",
        "thisdict.pop(\"brand\")\r\n",
        "print(thisdict)\r\n",
        "\r\n",
        "#The popitem() method removes the last inserted item (in versions before 3.7, a random item is removed instead):\r\n",
        "\r\n",
        "thisdict = {\r\n",
        "  \"brand\": \"Ford\",\r\n",
        "  \"model\": \"Mustang\",\r\n",
        "  \"year\": 1964\r\n",
        "}\r\n",
        "thisdict.popitem()\r\n",
        "print(thisdict)\r\n",
        "\r\n",
        "#The del keyword removes the item with the specified key name:\r\n",
        "\r\n",
        "thisdict = {\r\n",
        "  \"brand\": \"Ford\",\r\n",
        "  \"model\": \"Mustang\",\r\n",
        "  \"year\": 1964\r\n",
        "}\r\n",
        "del thisdict[\"model\"]\r\n",
        "print(thisdict)\r\n",
        "\r\n",
        "#The del keyword can also delete the dictionary completely:\r\n",
        "\"\"\"thisdict = {\r\n",
        "  \"brand\": \"Ford\",\r\n",
        "  \"model\": \"Mustang\",\r\n",
        "  \"year\": 1964\r\n",
        "}\r\n",
        "del thisdict\r\n",
        "print(thisdict)#this will cause an error because \"thisdict\" no longer exists.\"\"\"\r\n",
        "\r\n",
        "#The clear() method empties the dictionary\r\n",
        "thisdictn = {\r\n",
        "  \"brand\": \"Ford\",\r\n",
        "  \"model\": \"Mustang\",\r\n",
        "  \"year\": 1964\r\n",
        "}\r\n",
        "thisdictn.clear()\r\n",
        "print(thisdictn)\r\n",
        "\r\n",
        "#python loop dictionaries\r\n",
        "#Loop Through a Dictionary-You can loop through a dictionary by using a for loop.\r\n",
        "#When looping through a dictionary, the return value are the keys of the dictionary, but there are methods to return the values as well.\r\n",
        "#Print all key names in the dictionary, one by one:\r\n",
        "thisdict =\t{\r\n",
        "  \"brand\": \"Ford\",\r\n",
        "  \"model\": \"Mustang\",\r\n",
        "  \"year\": 1964\r\n",
        "}\r\n",
        "for x in thisdict:\r\n",
        "  print(x)\r\n",
        "#Print all values in the dictionary, one by one:\r\n",
        "for x in thisdict:\r\n",
        "  print(thisdict[x])\r\n",
        "#You can also use the values() method to return values of a dictionary:\r\n",
        "for x in thisdict.values():\r\n",
        "  print(x)\r\n",
        "#You can use the keys() method to return the keys of a dictionary:\r\n",
        "for x in thisdict.keys():\r\n",
        "  print(x)\r\n",
        "#Loop through both keys and values, by using the items() method:\r\n",
        "for x, y in thisdict.items():\r\n",
        "  print(x, y)\r\n",
        "\r\n",
        "#copy dictionaries\r\n",
        "#Copy a Dictionary-You cannot copy a dictionary simply by typing dict2 = dict1, \r\n",
        "#because: dict2 will only be a reference to dict1, and changes made in dict1 will automatically also be made in dict2.\r\n",
        "#There are ways to make a copy, one way is to use the built-in Dictionary method copy().\r\n",
        "#Make a copy of a dictionary with the copy() method:\r\n",
        "thisdict = {\r\n",
        "  \"brand\": \"Ford\",\r\n",
        "  \"model\": \"Mustang\",\r\n",
        "  \"year\": 1964\r\n",
        "}\r\n",
        "dict=thisdict.copy()\r\n",
        "print(dict)\r\n",
        "#Another way to make a copy is to use the built-in function dict().\r\n",
        "#Make a copy of a dictionary with the dict() function:\r\n",
        "\"\"\"thisdict = {\r\n",
        "  \"brand\": \"Ford\",\r\n",
        "  \"model\": \"Mustang\",\r\n",
        "  \"year\": 1964\r\n",
        "}\r\n",
        "mydict = dict(thisdict)\r\n",
        "print(mydict)\"\"\"\r\n",
        "#Nested Dictionaries-A dictionary can contain dictionaries, this is called nested dictionaries.\r\n",
        "#Create a dictionary that contain three dictionaries:\r\n",
        "myfamily = {\r\n",
        "  \"child1\" : {\r\n",
        "    \"name\" : \"Emil\",\r\n",
        "    \"year\" : 2004\r\n",
        "  },\r\n",
        "  \"child2\" : {\r\n",
        "    \"name\" : \"Tobias\",\r\n",
        "    \"year\" : 2007\r\n",
        "  },\r\n",
        "  \"child3\" : {\r\n",
        "    \"name\" : \"Linus\",\r\n",
        "    \"year\" : 2011\r\n",
        "  }\r\n",
        "}\r\n",
        "print(myfamily)\r\n",
        "\r\n",
        "#Or, if you want to add three dictionaries into a new dictionary:\r\n",
        "#Create three dictionaries, then create one dictionary that will contain the other three dictionaries:\r\n",
        "child1 = {\r\n",
        "  \"name\" : \"Emil\",\r\n",
        "  \"year\" : 2004\r\n",
        "}\r\n",
        "child2 = {\r\n",
        "  \"name\" : \"Tobias\",\r\n",
        "  \"year\" : 2007\r\n",
        "}\r\n",
        "child3 = {\r\n",
        "  \"name\" : \"Linus\",\r\n",
        "  \"year\" : 2011\r\n",
        "}\r\n",
        "\r\n",
        "myfamily = {\r\n",
        "  \"child1\" : child1,\r\n",
        "  \"child2\" : child2,\r\n",
        "  \"child3\" : child3\r\n",
        "}\r\n",
        "print(myfamily)\r\n",
        "\r\n",
        "#dictionary methods-Python has a set of built-in methods that you can use on dictionaries.\r\n",
        "\r\n",
        "\"\"\"Method\tDescription\r\n",
        "clear()\tRemoves all the elements from the dictionary\r\n",
        "copy()\tReturns a copy of the dictionary\r\n",
        "fromkeys()\tReturns a dictionary with the specified keys and value\r\n",
        "get()\tReturns the value of the specified key\r\n",
        "items()\tReturns a list containing a tuple for each key value pair\r\n",
        "keys()\tReturns a list containing the dictionary's keys\r\n",
        "pop()\tRemoves the element with the specified key\r\n",
        "popitem()\tRemoves the last inserted key-value pair\r\n",
        "setdefault()\tReturns the value of the specified key. If the key does not exist: insert the key, with the specified value\r\n",
        "update()\tUpdates the dictionary with the specified key-value pairs\r\n",
        "values()\tReturns a list of all the values in the dictionary\"\"\"\r\n",
        "\r\n",
        "thisdict = {\r\n",
        "  \"brand\": \"Ford\",\r\n",
        "  \"model\": \"Mustang\",\r\n",
        "  \"year\": 1964\r\n",
        "}\r\n",
        "a=thisdict.values()\r\n",
        "print(a)\r\n",
        "b=thisdict.update()\r\n",
        "print(b)\r\n",
        "c=thisdict.setdefault(\"model\", \"Bronco\")\r\n",
        "print(c)\r\n",
        "d=thisdict.popitem()\r\n",
        "print(d)\r\n",
        "e=thisdict.pop(\"model\")\r\n",
        "print(e)\r\n",
        "f=thisdict.keys()\r\n",
        "print(f)\r\n",
        "g=thisdict.values()\r\n",
        "print(g)\r\n",
        "h=thisdict.clear()\r\n",
        "print(h)\r\n",
        "i=thisdict.copy()\r\n",
        "print(i)\r\n",
        "x = ('key1', 'key2', 'key3')\r\n",
        "y = 0\r\n",
        "\r\n",
        "thisdict = dict.fromkeys(x, y)\r\n",
        "print(thisdict)\r\n"
      ],
      "execution_count": 36,
      "outputs": [
        {
          "output_type": "stream",
          "text": [
            "{'brand': 'Ford', 'model': 'Mustang', 'year': 1964}\n",
            "Ford\n",
            "{'brand': 'Ford', 'model': 'Mustang', 'year': 2020}\n",
            "{'brand': 'Ford', 'model': 'Mustang', 'year': 1964}\n",
            "3\n",
            "{'brand': 'Ford', 'electric': False, 'year': 1964, 'colors': ['red', 'white', 'blue']}\n",
            "<class 'dict'>\n",
            "Mustang\n",
            "Mustang\n",
            "dict_keys(['brand', 'model', 'year'])\n",
            "dict_keys(['brand', 'model', 'year'])\n",
            "dict_keys(['brand', 'model', 'year', 'color', 'fuel'])\n",
            "{'brand': 'Ford', 'model': 'Mustang', 'year': 2020, 'color': 'white', 'fuel': 'petrol'}\n",
            "dict_values(['Ford', 'Mustang', 2020, 'white', 'petrol'])\n",
            "dict_values(['Ford', 'Mustang', 1964])\n",
            "dict_values(['Ford', 'Mustang', 2020, 'petrol'])\n",
            "dict_items([('brand', 'Ford'), ('model', 'Mustang'), ('year', 1964)])\n",
            "dict_items([('brand', 'Ford'), ('model', 'Mustang'), ('year', 1964)])\n",
            "dict_items([('brand', 'Ford'), ('model', 'Mustang'), ('year', 2020), ('fuel', 'petrol')])\n",
            "yes,brand is present in thisdict\n",
            "{'brand': 'Ford', 'model': 'Mustang', 'year': 1964}\n",
            "{'brand': 'Ford', 'model': 'Mustang', 'year': 2018}\n",
            "{'brand': 'Ford', 'model': 'xxx2', 'year': 2020}\n",
            "{'brand': 'Ford', 'model': 'Mustang', 'year': 1964, 'fuel': 'petrol'}\n",
            "{'brand': 'Ford', 'model': 'Mustang', 'year': 1964, 'fuel': 'petrol', 'color': 'white'}\n",
            "{'model': 'Mustang', 'year': 1964}\n",
            "{'brand': 'Ford', 'model': 'Mustang'}\n",
            "{'brand': 'Ford', 'year': 1964}\n",
            "{}\n",
            "brand\n",
            "model\n",
            "year\n",
            "Ford\n",
            "Mustang\n",
            "1964\n",
            "Ford\n",
            "Mustang\n",
            "1964\n",
            "brand\n",
            "model\n",
            "year\n",
            "brand Ford\n",
            "model Mustang\n",
            "year 1964\n",
            "{'brand': 'Ford', 'model': 'Mustang', 'year': 1964}\n",
            "{'child1': {'name': 'Emil', 'year': 2004}, 'child2': {'name': 'Tobias', 'year': 2007}, 'child3': {'name': 'Linus', 'year': 2011}}\n",
            "{'child1': {'name': 'Emil', 'year': 2004}, 'child2': {'name': 'Tobias', 'year': 2007}, 'child3': {'name': 'Linus', 'year': 2011}}\n",
            "dict_values(['Ford', 'Mustang', 1964])\n",
            "None\n",
            "Mustang\n",
            "('year', 1964)\n",
            "Mustang\n",
            "dict_keys(['brand'])\n",
            "dict_values(['Ford'])\n",
            "None\n",
            "{}\n",
            "{'key1': 0, 'key2': 0, 'key3': 0}\n"
          ],
          "name": "stdout"
        }
      ]
    }
  ]
}