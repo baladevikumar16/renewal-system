{
  "nbformat": 4,
  "nbformat_minor": 0,
  "metadata": {
    "colab": {
      "name": "Copy of Basic pgms of python.ipynb",
      "provenance": [],
      "collapsed_sections": [],
      "authorship_tag": "ABX9TyMPILOq6UlrKRToWvjZwqlx",
      "include_colab_link": true
    },
    "kernelspec": {
      "name": "python3",
      "display_name": "Python 3"
    }
  },
  "cells": [
    {
      "cell_type": "markdown",
      "metadata": {
        "id": "view-in-github",
        "colab_type": "text"
      },
      "source": [
        "<a href=\"https://colab.research.google.com/github/baladevikumar16/renewal-system/blob/master/Copy_of_Basic_pgms_of_python.ipynb\" target=\"_parent\"><img src=\"https://colab.research.google.com/assets/colab-badge.svg\" alt=\"Open In Colab\"/></a>"
      ]
    },
    {
      "cell_type": "code",
      "metadata": {
        "colab": {
          "base_uri": "https://localhost:8080/"
        },
        "id": "GquVB6z0LSax",
        "outputId": "e7c45432-375d-4569-d04c-2b65ed121fdb"
      },
      "source": [
        "#Python program to print \"Hello Python\"\r\n",
        "print(\"Hello\")"
      ],
      "execution_count": null,
      "outputs": [
        {
          "output_type": "stream",
          "text": [
            "Hello\n"
          ],
          "name": "stdout"
        }
      ]
    },
    {
      "cell_type": "code",
      "metadata": {
        "colab": {
          "base_uri": "https://localhost:8080/"
        },
        "id": "-PE-HF-zLulz",
        "outputId": "69c78d89-00ba-4ada-ac5f-6000bed15d3d"
      },
      "source": [
        "#The arithmetic operations are performed by calculator where we can perform addition, subtraction, multiplication and division.\r\n",
        "#This example shows the basic arithmetic operations i.e.\r\n",
        "\"\"\"\r\n",
        "Addition\r\n",
        "Subtraction\r\n",
        "Multiplication\r\n",
        "Division\r\n",
        "\"\"\"\r\n",
        "n1=input(\"Enter the first number:\")\r\n",
        "n2=input(\"Enter the second number:\")\r\n",
        "sum=float(n1)+float(n2)\r\n",
        "min=float(n1)-float(n2)\r\n",
        "mul=float(n1)*float(n2)\r\n",
        "div=float(n1)/float(n2)\r\n",
        "print(\"The sum of two numbers is:\")\r\n",
        "print(sum)\r\n",
        "print(\"The sub of two numbers is:\")\r\n",
        "print(min)\r\n",
        "print(\"The mul of two numbers is:\")\r\n",
        "print(mul)\r\n",
        "print(\"The div of two numbers is:\")\r\n",
        "print(div)"
      ],
      "execution_count": null,
      "outputs": [
        {
          "output_type": "stream",
          "text": [
            "Enter the first number:56\n",
            "Enter the second number:78\n",
            "The sum of two numbers is:\n",
            "134.0\n",
            "The sub of two numbers is:\n",
            "-22.0\n",
            "The mul of two numbers is:\n",
            "4368.0\n",
            "The div of two numbers is:\n",
            "0.717948717948718\n"
          ],
          "name": "stdout"
        }
      ]
    },
    {
      "cell_type": "code",
      "metadata": {
        "colab": {
          "base_uri": "https://localhost:8080/"
        },
        "id": "3_OK8qm7Qjqs",
        "outputId": "1c9d2b4f-004c-4e15-82e9-5c65e0bb2c93"
      },
      "source": [
        "#swapping of two val\r\n",
        "x=input(\"Enter the first value:\")\r\n",
        "y=input(\"Enter the second value:\")\r\n",
        "temp=x\r\n",
        "x=y\r\n",
        "y=temp\r\n",
        "print(\"The val of x is:\")\r\n",
        "print(x)\r\n",
        "print(\"The val of y is:\")\r\n",
        "print(y)"
      ],
      "execution_count": null,
      "outputs": [
        {
          "output_type": "stream",
          "text": [
            "Enter the first value:67\n",
            "Enter the second value:78\n",
            "The val of x is:\n",
            "78\n",
            "The val of y is:\n",
            "67\n"
          ],
          "name": "stdout"
        }
      ]
    },
    {
      "cell_type": "code",
      "metadata": {
        "colab": {
          "base_uri": "https://localhost:8080/"
        },
        "id": "_GtDASEPRUZI",
        "outputId": "1290df0c-af26-433f-ec73-f569e99145a8"
      },
      "source": [
        "#Generating random number\r\n",
        "import random\r\n",
        "print(random.randint(100,500))\r\n",
        "print(random.randint(100,500))\r\n",
        "print(random.randint(100,500))\r\n",
        "print(random.randint(100,500))\r\n",
        "print(random.randint(100,500))\r\n"
      ],
      "execution_count": null,
      "outputs": [
        {
          "output_type": "stream",
          "text": [
            "201\n",
            "336\n",
            "436\n",
            "179\n",
            "161\n"
          ],
          "name": "stdout"
        }
      ]
    },
    {
      "cell_type": "code",
      "metadata": {
        "colab": {
          "base_uri": "https://localhost:8080/"
        },
        "id": "CCXkvf-JSP-Z",
        "outputId": "8104d540-cb8c-4f6c-d8d1-869c9f14e028"
      },
      "source": [
        "#cal,year\r\n",
        "import calendar  \r\n",
        "# Enter the month and year  \r\n",
        "yy = int(input(\"Enter year: \"))  \r\n",
        "mm = int(input(\"Enter month: \"))  \r\n",
        "  \r\n",
        "# display the calendar  \r\n",
        "print(calendar.month(yy,mm))  \r\n"
      ],
      "execution_count": null,
      "outputs": [
        {
          "output_type": "stream",
          "text": [
            "Enter year: 2021\n",
            "Enter month: 2\n",
            "   February 2021\n",
            "Mo Tu We Th Fr Sa Su\n",
            " 1  2  3  4  5  6  7\n",
            " 8  9 10 11 12 13 14\n",
            "15 16 17 18 19 20 21\n",
            "22 23 24 25 26 27 28\n",
            "\n"
          ],
          "name": "stdout"
        }
      ]
    },
    {
      "cell_type": "code",
      "metadata": {
        "id": "wHYFR9gGTMLg"
      },
      "source": [
        ""
      ],
      "execution_count": null,
      "outputs": []
    }
  ]
}