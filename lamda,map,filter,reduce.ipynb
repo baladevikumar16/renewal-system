{
  "nbformat": 4,
  "nbformat_minor": 0,
  "metadata": {
    "colab": {
      "name": "lamda,map,filter,reduce.ipynb",
      "provenance": [],
      "collapsed_sections": [],
      "authorship_tag": "ABX9TyOvtnzTr32CtEHX4yXLteID",
      "include_colab_link": true
    },
    "kernelspec": {
      "name": "python3",
      "display_name": "Python 3"
    }
  },
  "cells": [
    {
      "cell_type": "markdown",
      "metadata": {
        "id": "view-in-github",
        "colab_type": "text"
      },
      "source": [
        "<a href=\"https://colab.research.google.com/github/baladevikumar16/renewal-system/blob/master/lamda%2Cmap%2Cfilter%2Creduce.ipynb\" target=\"_parent\"><img src=\"https://colab.research.google.com/assets/colab-badge.svg\" alt=\"Open In Colab\"/></a>"
      ]
    },
    {
      "cell_type": "code",
      "metadata": {
        "colab": {
          "base_uri": "https://localhost:8080/"
        },
        "id": "28KVwqrqnx5-",
        "outputId": "b67a7d67-5471-4c6e-926e-7b92216cb5bc"
      },
      "source": [
        "#Python Lambda Functions:\r\n",
        "\"\"\"In Python, an anonymous function means that a function is without a name. \r\n",
        "As we already know that the def keyword is used to define a normal function in Python.\r\n",
        "Similarly, the lambda keyword is used to define an anonymous function in Python. It has the following syntax:\"\"\"\r\n",
        "\r\n",
        "#Syntax: lambda arguments: expression\r\n",
        "\r\n",
        "\"\"\"This function can have any number of arguments but only one expression, which is evaluated and returned.\r\n",
        "One is free to use lambda functions wherever function objects are required.\r\n",
        "You need to keep in your knowledge that lambda functions are syntactically restricted to a single expression.\r\n",
        "It has various uses in particular fields of programming besides other types of expressions in functions.\r\n",
        "Let’s look at this example and try to understand the difference between a normal def defined function and lambda function. \"\"\"\r\n",
        "\r\n",
        "#This is a program that returns the square of a given value: \r\n",
        "def sqr(x):\r\n",
        "    return(x*x)\r\n",
        "lamda_sqr=lambda y:y*y #function of lamda\r\n",
        "print(sqr(5))\r\n",
        "print(lamda_sqr(25))"
      ],
      "execution_count": null,
      "outputs": [
        {
          "output_type": "stream",
          "text": [
            "25\n",
            "625\n"
          ],
          "name": "stdout"
        }
      ]
    },
    {
      "cell_type": "code",
      "metadata": {
        "id": "L_dqBcqfoT9o"
      },
      "source": [
        "\"\"\"As we can see in the above example both the cube() function and lambda_cube() function behave the same and as intended. \r\n",
        "Let’s analyze the above example a bit more:\r\n",
        "\r\n",
        "Without using Lambda: Here, both of them return the cube of a given number. But, while using def, we needed to define a function \r\n",
        "with a name cube and needed to pass a value to it. After execution, we also needed to return the result from where the function \r\n",
        "was called using the return keyword.\r\n",
        "Using Lambda: Lambda definition does not include a “return” statement, it always contains an expression that is returned. \r\n",
        "We can also put a lambda definition anywhere a function is expected, and we don’t have to assign it to a variable at all. \r\n",
        "This is the simplicity of lambda functions.\r\n",
        "Lambda functions can be used along with built-in functions like filter(), map() and reduce().\"\"\"\r\n",
        "\r\n",
        "\r\n"
      ],
      "execution_count": null,
      "outputs": []
    },
    {
      "cell_type": "code",
      "metadata": {
        "colab": {
          "base_uri": "https://localhost:8080/"
        },
        "id": "r0ACZiErqd63",
        "outputId": "a3b28c08-0fdf-48cf-ad14-b60d400699a5"
      },
      "source": [
        "#Using lambda() Function with filter()\r\n",
        "\"\"\"The filter() function in Python takes in a function and a list as arguments. This offers an elegant way\r\n",
        " to filter out all the elements of a sequence “sequence”, for which the function returns True.\r\n",
        "Here is a small program that returns the odd numbers from an input list:\"\"\"\r\n",
        "\r\n",
        "# Python code to illustrate \r\n",
        "# filter() with lambda() \r\n",
        "\r\n",
        "li = [5, 7, 22, 97, 54, 62, 77, 23, 73, 61] \r\n",
        "final_list=list(filter(lambda x:( x%2!=0 ), li))\r\n",
        "print(final_list)"
      ],
      "execution_count": null,
      "outputs": [
        {
          "output_type": "stream",
          "text": [
            "[5, 7, 97, 77, 23, 73, 61]\n"
          ],
          "name": "stdout"
        }
      ]
    },
    {
      "cell_type": "code",
      "metadata": {
        "colab": {
          "base_uri": "https://localhost:8080/"
        },
        "id": "JBw6kSa5seE1",
        "outputId": "d3d4c143-5a14-4a32-821a-fec58ada1e62"
      },
      "source": [
        "\"\"\"Here is a small program that returns the even numbers from an input list:\"\"\"\r\n",
        "\r\n",
        "# Python code to illustrate \r\n",
        "# filter() with lambda() \r\n",
        "\r\n",
        "lis=[6785, 677, 292, 997, 5894, 6892, 7997, 2093, 7783, 6100003]\r\n",
        "final_list1=list(filter(lambda y:(y%2==0),lis))\r\n",
        "print(final_list1)\r\n"
      ],
      "execution_count": null,
      "outputs": [
        {
          "output_type": "stream",
          "text": [
            "[292, 5894, 6892]\n"
          ],
          "name": "stdout"
        }
      ]
    },
    {
      "cell_type": "code",
      "metadata": {
        "colab": {
          "base_uri": "https://localhost:8080/"
        },
        "id": "3PLB0u2QtsuN",
        "outputId": "dc25f238-0717-4839-c270-46dd4b8c69bb"
      },
      "source": [
        "# Python 3 code to people above 18 yrs \r\n",
        "# filter() with lambda() \r\n",
        "\r\n",
        "ages = [13, 90, 17, 59, 21, 60, 5] \r\n",
        "final_list2=list(filter(lambda z:(z>18),ages))\r\n",
        "print(final_list2)\r\n",
        "  "
      ],
      "execution_count": null,
      "outputs": [
        {
          "output_type": "stream",
          "text": [
            "[90, 59, 21, 60]\n"
          ],
          "name": "stdout"
        }
      ]
    },
    {
      "cell_type": "code",
      "metadata": {
        "colab": {
          "base_uri": "https://localhost:8080/"
        },
        "id": "MoCYn_iluafR",
        "outputId": "2fec0df7-ac89-489f-e914-8727b5e59f56"
      },
      "source": [
        "#Using lambda() Function with map()\r\n",
        "\"\"\"The map() function in Python takes in a function and a list as an argument. \r\n",
        "The function is called with a lambda function and a list and a new list is returned \r\n",
        "which contains all the lambda modified items returned by that function for each item.\"\"\" \r\n",
        "\r\n",
        "# Python code to illustrate \r\n",
        "# map() with lambda() \r\n",
        "# to get double of a list. \r\n",
        "\r\n",
        "li = [5, 7, 22, 97, 54, 62, 77, 23, 73, 61] \r\n",
        "final_list=list(map(lambda x:(x*2),li))\r\n",
        "print(final_list)\r\n"
      ],
      "execution_count": null,
      "outputs": [
        {
          "output_type": "stream",
          "text": [
            "[10, 14, 44, 194, 108, 124, 154, 46, 146, 122]\n"
          ],
          "name": "stdout"
        }
      ]
    },
    {
      "cell_type": "code",
      "metadata": {
        "colab": {
          "base_uri": "https://localhost:8080/"
        },
        "id": "SBQvQg2ovQxD",
        "outputId": "268cc257-ec5b-4a5b-9e8d-d2edde78db26"
      },
      "source": [
        "# Python program to demonstrate \r\n",
        "# use of lambda() function \r\n",
        "# with map() function \r\n",
        "animals = ['dog', 'cat', 'parrot', 'rabbit'] # here we intend to change all animal names \r\n",
        "                                             # to upper case and return the same \r\n",
        "final_list1=list(map(lambda y:(str.upper(y)),animals))\r\n",
        "print(final_list1)"
      ],
      "execution_count": null,
      "outputs": [
        {
          "output_type": "stream",
          "text": [
            "['DOG', 'CAT', 'PARROT', 'RABBIT']\n"
          ],
          "name": "stdout"
        }
      ]
    },
    {
      "cell_type": "code",
      "metadata": {
        "colab": {
          "base_uri": "https://localhost:8080/"
        },
        "id": "y4RjqvlSv_FK",
        "outputId": "2f8fc65c-8160-4da9-ed3c-f46b80d1ac98"
      },
      "source": [
        "#Using lambda() Function with reduce()\r\n",
        "\"\"\"The reduce() function in Python takes in a function and a list as an argument. \r\n",
        "The function is called with a lambda function and an iterable and a new reduced result is returned.\r\n",
        "This performs a repetitive operation over the pairs of the iterable. \r\n",
        "The reduce() function belongs to the  functools module.\"\"\"\r\n",
        "\r\n",
        "# Python code to illustrate  \r\n",
        "# reduce() with lambda() \r\n",
        "# to get sum of a list \r\n",
        "from functools import reduce\r\n",
        "li = [5, 8, 10, 20, 50, 100] \r\n",
        "sum=reduce(lambda x,y:(x+y),li)\r\n",
        "print(sum)\r\n",
        "#Here the results of previous two elements are added to the next element and this goes on till the end of the list like (((((5+8)+10)+20)+50)+100).\r\n"
      ],
      "execution_count": null,
      "outputs": [
        {
          "output_type": "stream",
          "text": [
            "193\n"
          ],
          "name": "stdout"
        }
      ]
    },
    {
      "cell_type": "code",
      "metadata": {
        "colab": {
          "base_uri": "https://localhost:8080/"
        },
        "id": "X3Wq-3LZx0ZH",
        "outputId": "60a8aebf-794f-413c-ec97-b44c4e2c79fc"
      },
      "source": [
        "# python code to demonstrate working of reduce()  \r\n",
        "# with a lambda function \r\n",
        "  \r\n",
        "# importing functools for reduce()  \r\n",
        "from functools import reduce  \r\n",
        "# initializing list  \r\n",
        "lis = [ 1 , 3, 5, 6, 2, ]  \r\n",
        "  \r\n",
        "# using reduce to compute maximum element from list  \r\n",
        "print(\"The maximum element of the list is :\")  \r\n",
        "list_final=reduce(lambda a,b: a if a>b else b,lis)\r\n",
        "print(list_final)\r\n"
      ],
      "execution_count": null,
      "outputs": [
        {
          "output_type": "stream",
          "text": [
            "The maximum element of the list is :\n",
            "6\n"
          ],
          "name": "stdout"
        }
      ]
    }
  ]
}