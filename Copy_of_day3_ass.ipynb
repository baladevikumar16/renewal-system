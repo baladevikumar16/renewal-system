{
  "nbformat": 4,
  "nbformat_minor": 0,
  "metadata": {
    "colab": {
      "name": "Copy of day3 ass.ipynb",
      "provenance": [],
      "collapsed_sections": [],
      "authorship_tag": "ABX9TyNVHPvN1hcMTKrXOwKTxfSv",
      "include_colab_link": true
    },
    "kernelspec": {
      "name": "python3",
      "display_name": "Python 3"
    }
  },
  "cells": [
    {
      "cell_type": "markdown",
      "metadata": {
        "id": "view-in-github",
        "colab_type": "text"
      },
      "source": [
        "<a href=\"https://colab.research.google.com/github/baladevikumar16/renewal-system/blob/master/Copy_of_day3_ass.ipynb\" target=\"_parent\"><img src=\"https://colab.research.google.com/assets/colab-badge.svg\" alt=\"Open In Colab\"/></a>"
      ]
    },
    {
      "cell_type": "code",
      "metadata": {
        "colab": {
          "base_uri": "https://localhost:8080/"
        },
        "id": "jrglCPPkWptV",
        "outputId": "4976bc46-783f-4e31-b9f7-e8b8a8478f39"
      },
      "source": [
        "alt=4500\r\n",
        "if alt<1000:\r\n",
        " print(\"land the plane\")\r\n",
        "elif alt>1000 and alt<5000:\r\n",
        " print(\"come down to 1000ft\")\r\n",
        "elif alt>5000:\r\n",
        " print(\"go around and try later\")\r\n",
        "else:\r\n",
        " print(\"none\")"
      ],
      "execution_count": null,
      "outputs": [
        {
          "output_type": "stream",
          "text": [
            "come down to 1000ft\n"
          ],
          "name": "stdout"
        }
      ]
    },
    {
      "cell_type": "code",
      "metadata": {
        "colab": {
          "base_uri": "https://localhost:8080/"
        },
        "id": "gEF8CqyyZgrD",
        "outputId": "db185231-5dad-47ac-b872-db1d7c64f9e0"
      },
      "source": [
        "alt=6500\r\n",
        "if alt<1000:\r\n",
        " print(\"land the plane\")\r\n",
        "elif alt>1000 and alt<5000:\r\n",
        " print(\"come down to 1000ft\")\r\n",
        "elif alt>5000:\r\n",
        " print(\"go around and try later\")\r\n",
        "else:\r\n",
        " print(\"none\")"
      ],
      "execution_count": null,
      "outputs": [
        {
          "output_type": "stream",
          "text": [
            "go around and try later\n"
          ],
          "name": "stdout"
        }
      ]
    },
    {
      "cell_type": "code",
      "metadata": {
        "colab": {
          "base_uri": "https://localhost:8080/"
        },
        "id": "NHugX_waZm3V",
        "outputId": "26aacc00-b63a-431f-ac71-8f5498714b9c"
      },
      "source": [
        "alt=1000\r\n",
        "if alt<1000 or alt==1000:\r\n",
        " print(\"land the plane\")\r\n",
        "elif alt>1000 and alt<5000:\r\n",
        " print(\"come down to 1000ft\")\r\n",
        "elif alt>5000:\r\n",
        " print(\"go around and try later\")\r\n",
        "else:\r\n",
        " print(\"none\")"
      ],
      "execution_count": null,
      "outputs": [
        {
          "output_type": "stream",
          "text": [
            "land the plane\n"
          ],
          "name": "stdout"
        }
      ]
    },
    {
      "cell_type": "code",
      "metadata": {
        "colab": {
          "base_uri": "https://localhost:8080/"
        },
        "id": "aIm1eEI8acJZ",
        "outputId": "cddfa697-27e1-4490-c4bd-46fd648bcad1"
      },
      "source": [
        "alt=1000\r\n",
        "if alt<1000:\r\n",
        " print(\"land the plane\")\r\n",
        "elif alt>1000 and alt<5000:\r\n",
        " print(\"come down to 1000ft\")\r\n",
        "elif alt>5000:\r\n",
        " print(\"go around and try later\")\r\n",
        "else:\r\n",
        " print(\"none\")"
      ],
      "execution_count": null,
      "outputs": [
        {
          "output_type": "stream",
          "text": [
            "none\n"
          ],
          "name": "stdout"
        }
      ]
    }
  ]
}