{
  "nbformat": 4,
  "nbformat_minor": 0,
  "metadata": {
    "colab": {
      "name": "ppts ass1.ipynb",
      "provenance": [],
      "collapsed_sections": [],
      "authorship_tag": "ABX9TyM4cMUF++oOEQoq9fKEx9qC",
      "include_colab_link": true
    },
    "kernelspec": {
      "name": "python3",
      "display_name": "Python 3"
    }
  },
  "cells": [
    {
      "cell_type": "markdown",
      "metadata": {
        "id": "view-in-github",
        "colab_type": "text"
      },
      "source": [
        "<a href=\"https://colab.research.google.com/github/baladevikumar16/renewal-system/blob/master/ppts_ass1.ipynb\" target=\"_parent\"><img src=\"https://colab.research.google.com/assets/colab-badge.svg\" alt=\"Open In Colab\"/></a>"
      ]
    },
    {
      "cell_type": "code",
      "metadata": {
        "id": "bLxXeBBfFXhU",
        "colab": {
          "base_uri": "https://localhost:8080/"
        },
        "outputId": "b38ed874-751c-4f38-c26a-977c02a649b2"
      },
      "source": [
        "#create a list and print the values\r\n",
        "list=[\"apple\",\"banana\",\"cherry\",\"dryfruits\",67,98.7,\"pineapple\",\"orange\",\"jackfruit\",7890000]\r\n",
        "print(list)"
      ],
      "execution_count": null,
      "outputs": [
        {
          "output_type": "stream",
          "text": [
            "['apple', 'banana', 'cherry', 'dryfruits', 67, 98.7, 'pineapple', 'orange', 'jackfruit', 7890000]\n"
          ],
          "name": "stdout"
        }
      ]
    },
    {
      "cell_type": "code",
      "metadata": {
        "colab": {
          "base_uri": "https://localhost:8080/"
        },
        "id": "q_zsnmZwGHOc",
        "outputId": "b9e34440-5d1c-42ec-faa5-4e221c2dcdb5"
      },
      "source": [
        "#print the 5th and last element in the list\r\n",
        "print(list[5])\r\n",
        "print(list[-1])#negative indexing(to print last item in the list)"
      ],
      "execution_count": null,
      "outputs": [
        {
          "output_type": "stream",
          "text": [
            "98.7\n",
            "7890000\n"
          ],
          "name": "stdout"
        }
      ]
    },
    {
      "cell_type": "code",
      "metadata": {
        "colab": {
          "base_uri": "https://localhost:8080/"
        },
        "id": "-2uBG7kaHIje",
        "outputId": "6bbf8a64-aceb-42e6-bf27-20d4a174b4bd"
      },
      "source": [
        "#To print sum of the similar numbers in the list \r\n",
        "\"\"\"list1=[6,5,89,7,45,7,56,7]\r\n",
        "dupl = set() # create empty set\r\n",
        "\r\n",
        "# loop through the elements inside the list\r\n",
        "for i in list1:\r\n",
        "    if list1.count(i) > 1:\r\n",
        "        dupl.add(i)\r\n",
        "print(list1)\r\n",
        "print(dupl)\"\"\"\r\n",
        "\r\n",
        "\r\n",
        "listOfElems = [6,5,89,7,45,7,56,7]\r\n",
        "dictOfElems = getDuplicatesWithInfo(listOfElems)\r\n",
        "for key, value in dictOfElems.items():\r\n",
        "        print('Element = ', key , ' :: Repeated Count = ', value[0] , ' :: Index Positions =  ', value[1])    "
      ],
      "execution_count": 140,
      "outputs": [
        {
          "output_type": "stream",
          "text": [
            "Element =  7  :: Repeated Count =  3  :: Index Positions =   [3, 5, 7]\n"
          ],
          "name": "stdout"
        }
      ]
    },
    {
      "cell_type": "code",
      "metadata": {
        "colab": {
          "base_uri": "https://localhost:8080/"
        },
        "id": "zJToFrzq4_es",
        "outputId": "d5ea4d5b-1df8-4b38-d4cc-736d78be0824"
      },
      "source": [
        "l=listOfElems[3]+listOfElems[5]+listOfElems[7]\r\n",
        "print(l)"
      ],
      "execution_count": 144,
      "outputs": [
        {
          "output_type": "stream",
          "text": [
            "21\n"
          ],
          "name": "stdout"
        }
      ]
    },
    {
      "cell_type": "code",
      "metadata": {
        "id": "vqCFOGKMLW-k",
        "colab": {
          "base_uri": "https://localhost:8080/"
        },
        "outputId": "090c4a3b-db60-4289-8361-661c2cc049d9"
      },
      "source": [
        "#add a new element\r\n",
        "#remove duplicate element\r\n",
        "#replace an element\r\n",
        "\r\n",
        "#1.adding an element\r\n",
        "list1=[\"apple\", \"banana\", \"cherry\"]\r\n",
        "list1.append(\"orange\")#add a new element\r\n",
        "print(list1)\r\n",
        "\r\n",
        "list1.insert(3,\"jackfruit\")\r\n",
        "print(list1)\r\n",
        "\r\n",
        "thislist = [\"apple\", \"banana\", \"cherry\"]\r\n",
        "tropical = [\"mango\", \"pineapple\", \"papaya\"]\r\n",
        "thislist.extend(tropical)\r\n",
        "print(thislist)\r\n",
        "\r\n",
        "#2.removing an element\r\n",
        "list2=[\"apple\", \"banana\", \"cherry\",\"apple\",\"orange\"]\r\n",
        "res = [] \r\n",
        "[res.append(x) for x in list2 if x not in res] #list comprehension\r\n",
        "# printing list after removal  \r\n",
        "print (\"The list after removing duplicates : \" + str(res)) \r\n",
        "  \r\n",
        "#replacing element\r\n",
        "list2=[\"apple\", \"banana\", \"cherry\",\"apple\",\"orange\"]#replacing elements\r\n",
        "list2[2]=\"jackfruit\"#index\r\n",
        "print(list2)\r\n",
        "\r\n",
        "list2=[\"apple\", \"banana\", \"cherry\",\"apple\",\"orange\"]\r\n",
        "list2[2:3]=[\"icecream\",\"guava\"]\r\n",
        "print(list2)\r\n",
        "\r\n",
        "list2=[\"apple\", \"banana\", \"cherry\",\"apple\",\"orange\"]\r\n",
        "list2[1:3]=[\"icecream\"]\r\n",
        "print(list2)"
      ],
      "execution_count": 63,
      "outputs": [
        {
          "output_type": "stream",
          "text": [
            "['apple', 'banana', 'cherry', 'orange']\n",
            "['apple', 'banana', 'cherry', 'jackfruit', 'orange']\n",
            "['apple', 'banana', 'cherry', 'mango', 'pineapple', 'papaya']\n",
            "The list after removing duplicates : ['apple', 'banana', 'cherry', 'orange']\n",
            "['apple', 'banana', 'jackfruit', 'apple', 'orange']\n",
            "['apple', 'banana', 'icecream', 'guava', 'apple', 'orange']\n",
            "['apple', 'icecream', 'apple', 'orange']\n"
          ],
          "name": "stdout"
        }
      ]
    },
    {
      "cell_type": "code",
      "metadata": {
        "colab": {
          "base_uri": "https://localhost:8080/"
        },
        "id": "d7cu24gzYqTT",
        "outputId": "ec8bb9b6-712a-41ea-d702-851d28e2ad8b"
      },
      "source": [
        "#compare 2 list and print the same elements in the list\r\n",
        "thislist = [\"apple\", \"banana\", \"cherry\",\"lemon\"]\r\n",
        "tropical = [\"mango\", \"pineapple\", \"papaya\",\"apple\"]\r\n",
        "def common(thislist,tropical): #using function\r\n",
        "    c = [value for value in thislist if value in tropical] \r\n",
        "    return c\r\n",
        "d=common(thislist,tropical)\r\n",
        "print(d)\r\n",
        "\r\n",
        "#intersection method using set\r\n",
        "a=[2,9,4,5]\r\n",
        "b=[3,5,7,2]\r\n",
        "print(set(a).intersection(b))\r\n"
      ],
      "execution_count": 69,
      "outputs": [
        {
          "output_type": "stream",
          "text": [
            "['apple']\n",
            "{2, 5}\n"
          ],
          "name": "stdout"
        }
      ]
    },
    {
      "cell_type": "code",
      "metadata": {
        "colab": {
          "base_uri": "https://localhost:8080/"
        },
        "id": "shuL6497dDcG",
        "outputId": "a67615db-7747-47be-9edf-ee7765b73653"
      },
      "source": [
        "#merge 2 list and print the largest and smallest number\r\n",
        "list1=[67,89,900,673,68]\r\n",
        "list2=[23,45,60,77,34]\r\n",
        "list3=(list1+list2)\r\n",
        "print(list3)\r\n",
        "list3.sort()\r\n",
        "print(list3)\r\n",
        "def find_len(list3): \r\n",
        "    length = len(list3) \r\n",
        "    list3.sort() \r\n",
        "    print(\"Largest element is:\", list3[length-1]) \r\n",
        "    print(\"Smallest element is:\", list3[0]) \r\n",
        "find_len(list3)\r\n",
        "\r\n",
        "\r\n",
        "\r\n"
      ],
      "execution_count": 86,
      "outputs": [
        {
          "output_type": "stream",
          "text": [
            "[67, 89, 900, 673, 68, 23, 45, 60, 77, 34]\n",
            "[23, 34, 45, 60, 67, 68, 77, 89, 673, 900]\n",
            "Largest element is: 900\n",
            "Smallest element is: 23\n"
          ],
          "name": "stdout"
        }
      ]
    },
    {
      "cell_type": "code",
      "metadata": {
        "id": "nQkdDKRXiRk4"
      },
      "source": [
        "#create tuple and add,remove,replace items in tuple\r\n",
        "\"\"\"tuple1 = (\"apple\", \"banana\", \"cherry\")\r\n",
        "print(tuple1)\r\n",
        "\r\n",
        "thistuple = (\"apple\", \"banana\", \"cherry\")\r\n",
        "y = list(thistuple)\r\n",
        "y.append(\"orange\")\r\n",
        "thistuple = tuple(y)\r\n",
        "print(thistuple)\"\"\"\r\n",
        "\r\n",
        "thistuple = (\"apple\", \"banana\", \"cherry\")\r\n",
        "y = list(thistuple)\r\n",
        "y.pop(\"apple\")\r\n",
        "thistuple = tuple(y)\r\n",
        "print(thistuple)\r\n",
        "\r\n",
        "\"\"\"x = (\"apple\", \"banana\", \"cherry\")\r\n",
        "y = list(x)\r\n",
        "y[1] = \"kiwi\"\r\n",
        "x = tuple(y)\r\n",
        "print(x)\"\"\"\r\n",
        "\r\n"
      ],
      "execution_count": null,
      "outputs": []
    },
    {
      "cell_type": "code",
      "metadata": {
        "id": "Gjtx4xHNnQa_"
      },
      "source": [
        "#convert tuple to list\r\n",
        "value = (10, 20, 30, 40, 50)\r\n",
        "my_tuple = list(value)\r\n",
        "print(my_tuple)\r\n",
        "\r\n",
        "#convert tuple to a string\r\n",
        "value = ('c', 'h', 'e', 'n', 'n', 'a','i')\r\n",
        "my_string = ''.join(value)\r\n",
        "print(my_string)\r\n"
      ],
      "execution_count": null,
      "outputs": []
    },
    {
      "cell_type": "code",
      "metadata": {
        "colab": {
          "base_uri": "https://localhost:8080/"
        },
        "id": "eUdyGyauoYWz",
        "outputId": "9b4a5402-46ea-4339-e3ce-83d4c6386745"
      },
      "source": [
        "#print the first and last item in a tuple\r\n",
        "value = (10, 20, 30, 40, 50)\r\n",
        "print(value[-1])#last item\r\n",
        "print(value[0])#first item"
      ],
      "execution_count": 107,
      "outputs": [
        {
          "output_type": "stream",
          "text": [
            "50\n",
            "10\n"
          ],
          "name": "stdout"
        }
      ]
    },
    {
      "cell_type": "code",
      "metadata": {
        "colab": {
          "base_uri": "https://localhost:8080/"
        },
        "id": "6Vsbjf_Eo2uY",
        "outputId": "e4c4bf97-6ba4-41f8-b406-f30b21159276"
      },
      "source": [
        "#find the index of element in a tuple:\r\n",
        "value = (10, 20, 30, 40, 50)\r\n",
        "print(\"Index of 10:\",value.index(10))"
      ],
      "execution_count": 109,
      "outputs": [
        {
          "output_type": "stream",
          "text": [
            "Index of 10: 0\n"
          ],
          "name": "stdout"
        }
      ]
    },
    {
      "cell_type": "code",
      "metadata": {
        "colab": {
          "base_uri": "https://localhost:8080/"
        },
        "id": "pWFPAUqLp3xa",
        "outputId": "101b2fc7-b537-44ca-9fc1-3d2f24097809"
      },
      "source": [
        "#length of tuple\r\n",
        "value = (10, 20, 30, 40, 50)\r\n",
        "print(len(value))"
      ],
      "execution_count": 111,
      "outputs": [
        {
          "output_type": "stream",
          "text": [
            "5\n"
          ],
          "name": "stdout"
        }
      ]
    },
    {
      "cell_type": "code",
      "metadata": {
        "colab": {
          "base_uri": "https://localhost:8080/"
        },
        "id": "CBE4MDvGqRDt",
        "outputId": "99220d0b-f271-4508-8498-55957112983c"
      },
      "source": [
        "#list length\r\n",
        "list=[\"a\",\"bbb\",90,89.7,\"cccc\"]\r\n",
        "print(len(list))"
      ],
      "execution_count": 112,
      "outputs": [
        {
          "output_type": "stream",
          "text": [
            "5\n"
          ],
          "name": "stdout"
        }
      ]
    },
    {
      "cell_type": "code",
      "metadata": {
        "colab": {
          "base_uri": "https://localhost:8080/"
        },
        "id": "372ip5PSqfGQ",
        "outputId": "3b9690a0-7afc-4fa0-cfe5-00623c9ffd76"
      },
      "source": [
        "#print the elements in a tuple in reverse order\r\n",
        "\r\n",
        "x = (\"wwww\",\"gggg\",\"jjjj\")\r\n",
        "# Reversed the tuple\r\n",
        "y = reversed(x)\r\n",
        "print(tuple(y))"
      ],
      "execution_count": 120,
      "outputs": [
        {
          "output_type": "stream",
          "text": [
            "('jjjj', 'gggg', 'wwww')\n"
          ],
          "name": "stdout"
        }
      ]
    },
    {
      "cell_type": "code",
      "metadata": {
        "colab": {
          "base_uri": "https://localhost:8080/"
        },
        "id": "KHmpT2Y0qmVi",
        "outputId": "8263a6d6-ae23-487b-e1b9-399d6bee357d"
      },
      "source": [
        "#print the elements in a list in reverse order\r\n",
        "myList = [\"wwww\",\"gggg\",\"jjjj\"];\r\n",
        "myList.reverse();\r\n",
        "print(myList);"
      ],
      "execution_count": 118,
      "outputs": [
        {
          "output_type": "stream",
          "text": [
            "['jjjj', 'gggg', 'wwww']\n"
          ],
          "name": "stdout"
        }
      ]
    }
  ]
}