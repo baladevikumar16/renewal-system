{
  "nbformat": 4,
  "nbformat_minor": 0,
  "metadata": {
    "colab": {
      "name": "ppts ass2.ipynb",
      "provenance": [],
      "collapsed_sections": [],
      "authorship_tag": "ABX9TyPyQZ5rQDSOiU8LRu8JSrly",
      "include_colab_link": true
    },
    "kernelspec": {
      "name": "python3",
      "display_name": "Python 3"
    }
  },
  "cells": [
    {
      "cell_type": "markdown",
      "metadata": {
        "id": "view-in-github",
        "colab_type": "text"
      },
      "source": [
        "<a href=\"https://colab.research.google.com/github/baladevikumar16/renewal-system/blob/master/ppts_ass2.ipynb\" target=\"_parent\"><img src=\"https://colab.research.google.com/assets/colab-badge.svg\" alt=\"Open In Colab\"/></a>"
      ]
    },
    {
      "cell_type": "code",
      "metadata": {
        "colab": {
          "base_uri": "https://localhost:8080/",
          "height": 248
        },
        "id": "RK9JKpc6Sa3m",
        "outputId": "d00c6c79-1d1f-431f-e68b-b66ad6e65945"
      },
      "source": [
        "#sort dict by values:\r\n",
        "y={'carl':40,'alan':2,'bob':1,'danny':3} \r\n",
        "                                         \r\n",
        "l=list(y.values())   #convet the given dict. into list\r\n",
        "#In Python Dictionary, items() method is used to return the list\r\n",
        "#with all dictionary keys with values.\r\n",
        "l.sort()            #sort the list\r\n",
        "print('Ascending order is',l) #this print the sorted list \r\n",
        "\r\n",
        "l=list(y.values())\r\n",
        "l.sort(reverse=True) #sort in reverse order\r\n",
        "print('Descending order is',l)\r\n"
      ],
      "execution_count": 70,
      "outputs": [
        {
          "output_type": "stream",
          "text": [
            "Ascending order is [1, 2, 3, 40]\n"
          ],
          "name": "stdout"
        },
        {
          "output_type": "error",
          "ename": "TypeError",
          "evalue": "ignored",
          "traceback": [
            "\u001b[0;31m---------------------------------------------------------------------------\u001b[0m",
            "\u001b[0;31mTypeError\u001b[0m                                 Traceback (most recent call last)",
            "\u001b[0;32m<ipython-input-70-3da1da8391a0>\u001b[0m in \u001b[0;36m<module>\u001b[0;34m()\u001b[0m\n\u001b[1;32m      7\u001b[0m \u001b[0ml\u001b[0m\u001b[0;34m.\u001b[0m\u001b[0msort\u001b[0m\u001b[0;34m(\u001b[0m\u001b[0;34m)\u001b[0m            \u001b[0;31m#sort the list\u001b[0m\u001b[0;34m\u001b[0m\u001b[0;34m\u001b[0m\u001b[0m\n\u001b[1;32m      8\u001b[0m \u001b[0mprint\u001b[0m\u001b[0;34m(\u001b[0m\u001b[0;34m'Ascending order is'\u001b[0m\u001b[0;34m,\u001b[0m\u001b[0ml\u001b[0m\u001b[0;34m)\u001b[0m \u001b[0;31m#this print the sorted list\u001b[0m\u001b[0;34m\u001b[0m\u001b[0;34m\u001b[0m\u001b[0m\n\u001b[0;32m----> 9\u001b[0;31m \u001b[0mdict1\u001b[0m\u001b[0;34m=\u001b[0m\u001b[0mdict\u001b[0m\u001b[0;34m(\u001b[0m\u001b[0ml\u001b[0m\u001b[0;34m)\u001b[0m \u001b[0;31m# convert the list in dictionary\u001b[0m\u001b[0;34m\u001b[0m\u001b[0;34m\u001b[0m\u001b[0m\n\u001b[0m\u001b[1;32m     10\u001b[0m \u001b[0mprint\u001b[0m\u001b[0;34m(\u001b[0m\u001b[0;34m\"Dictionary\"\u001b[0m\u001b[0;34m,\u001b[0m\u001b[0mdict1\u001b[0m\u001b[0;34m)\u001b[0m\u001b[0;34m\u001b[0m\u001b[0;34m\u001b[0m\u001b[0m\n\u001b[1;32m     11\u001b[0m \u001b[0;34m\u001b[0m\u001b[0m\n",
            "\u001b[0;31mTypeError\u001b[0m: 'dict' object is not callable"
          ]
        }
      ]
    },
    {
      "cell_type": "code",
      "metadata": {
        "colab": {
          "base_uri": "https://localhost:8080/"
        },
        "id": "p0jpuqPHSo3f",
        "outputId": "bf40c511-e9ad-4961-db5b-11f79993873d"
      },
      "source": [
        "#concat 2 dict and add new element to the dict\r\n",
        "dic1={1:10, 2:20}\r\n",
        "dic2={3:30, 4:40}\r\n",
        "dic3={5:50,6:60}\r\n",
        "dic4={}\r\n",
        "for d in (dic1, dic2,dic3):dic4.update(d)\r\n",
        "print(dic4)\r\n"
      ],
      "execution_count": 14,
      "outputs": [
        {
          "output_type": "stream",
          "text": [
            "{1: 10, 2: 20, 3: 30, 4: 40, 5: 50, 6: 60}\n"
          ],
          "name": "stdout"
        }
      ]
    },
    {
      "cell_type": "code",
      "metadata": {
        "colab": {
          "base_uri": "https://localhost:8080/"
        },
        "id": "EF9K3SPXSwX0",
        "outputId": "9474f0bf-44c4-479b-d3ae-435c2fa2c8e3"
      },
      "source": [
        "#convert list of tuples to dict\r\n",
        "print(dict([('Sachin', 10), ('MSD', 7), ('Kohli', 18), ('Rohit', 45),(\"suraj\", 20), (\"akhil\", 25), (\"ashish\", 30)])) "
      ],
      "execution_count": 28,
      "outputs": [
        {
          "output_type": "stream",
          "text": [
            "{'Sachin': 10, 'MSD': 7, 'Kohli': 18, 'Rohit': 45, 'suraj': 20, 'akhil': 25, 'ashish': 30}\n"
          ],
          "name": "stdout"
        }
      ]
    },
    {
      "cell_type": "code",
      "metadata": {
        "colab": {
          "base_uri": "https://localhost:8080/"
        },
        "id": "K4TprQe-S1aT",
        "outputId": "16a431c4-1e99-4e60-9791-9ecced32f319"
      },
      "source": [
        "#sum the keys and val in the dict\r\n",
        "d = {12: 1, 34: 3, 56: 2, 8: 5, 9: 4, 61: 6}\r\n",
        "result1 = sum(d.values())\r\n",
        "result2=  sum(d.keys())\r\n",
        "print(d)\r\n",
        "print(result1)\r\n",
        "print(result2)"
      ],
      "execution_count": 31,
      "outputs": [
        {
          "output_type": "stream",
          "text": [
            "{12: 1, 34: 3, 56: 2, 8: 5, 9: 4, 61: 6}\n",
            "21\n",
            "180\n"
          ],
          "name": "stdout"
        }
      ]
    },
    {
      "cell_type": "code",
      "metadata": {
        "colab": {
          "base_uri": "https://localhost:8080/"
        },
        "id": "PqjbtjrHS-u9",
        "outputId": "e93f482b-96f3-4a84-b080-066dd1efa545"
      },
      "source": [
        "#sort dict by keys\r\n",
        "y={'carl':40,'alan':2,'bob':1,'danny':3} \r\n",
        "                                         \r\n",
        "l=list(y.keys())   #convet the given dict. into list\r\n",
        "#In Python Dictionary, items() method is used to return the list\r\n",
        "#with all dictionary keys with values.\r\n",
        "l.sort()            #sort the list\r\n",
        "print('Ascending order is',l) #this print the sorted list \r\n",
        "\r\n",
        "\r\n",
        "\r\n",
        "l=list(y.keys())\r\n",
        "l.sort(reverse=True) #sort in reverse order\r\n",
        "print('Descending order is',l)\r\n"
      ],
      "execution_count": 68,
      "outputs": [
        {
          "output_type": "stream",
          "text": [
            "Ascending order is ['alan', 'bob', 'carl', 'danny']\n",
            "Descending order is ['danny', 'carl', 'bob', 'alan']\n"
          ],
          "name": "stdout"
        }
      ]
    },
    {
      "cell_type": "code",
      "metadata": {
        "colab": {
          "base_uri": "https://localhost:8080/"
        },
        "id": "DsiWZN7uTCQX",
        "outputId": "3befae81-d5ae-4270-947a-358d8e8cf2c2"
      },
      "source": [
        "#remove duplicate values by dict\r\n",
        "student_data = {'id1': \r\n",
        "   {'name': ['Sara'], \r\n",
        "    'class': ['V'], \r\n",
        "    'subject_integration': ['english, math, science']\r\n",
        "   },\r\n",
        " 'id2': \r\n",
        "  {'name': ['David'], \r\n",
        "    'class': ['V'], \r\n",
        "    'subject_integration': ['english, math, science']\r\n",
        "   },\r\n",
        " 'id3': \r\n",
        "    {'name': ['Sara'], \r\n",
        "    'class': ['V'], \r\n",
        "    'subject_integration': ['english, math, science']\r\n",
        "   },\r\n",
        " 'id4': \r\n",
        "   {'name': ['Surya'], \r\n",
        "    'class': ['V'], \r\n",
        "    'subject_integration': ['english, math, science']\r\n",
        "   },\r\n",
        "}\r\n",
        "\r\n",
        "result = {}\r\n",
        "\r\n",
        "for key,value in student_data.items():\r\n",
        "    if value not in result.values():\r\n",
        "        result[key] = value\r\n",
        "\r\n",
        "print(result)"
      ],
      "execution_count": 2,
      "outputs": [
        {
          "output_type": "stream",
          "text": [
            "{'id1': {'name': ['Sara'], 'class': ['V'], 'subject_integration': ['english, math, science']}, 'id2': {'name': ['David'], 'class': ['V'], 'subject_integration': ['english, math, science']}, 'id4': {'name': ['Surya'], 'class': ['V'], 'subject_integration': ['english, math, science']}}\n"
          ],
          "name": "stdout"
        }
      ]
    },
    {
      "cell_type": "code",
      "metadata": {
        "colab": {
          "base_uri": "https://localhost:8080/"
        },
        "id": "nve7O77dTIih",
        "outputId": "88323601-dcd9-4795-cd98-85cab082065a"
      },
      "source": [
        "#find out the shortest list(based on the number of elements)\r\n",
        "def test(dict1):\r\n",
        "    min_value=1\r\n",
        "    result = [k for k, v in dict1.items() if len(v) == (min_value)] \r\n",
        "    return result    \r\n",
        "\r\n",
        "dict1 = {\r\n",
        " 'a': [10, 12],\r\n",
        " 'b': [10],\r\n",
        " 'c': [10, 20, 30, 40],\r\n",
        " 'd': [20],\r\n",
        " 'e': [10,30,50,70],\r\n",
        " 'f': [80]\r\n",
        " }\r\n",
        "\r\n",
        "print(\"\\nOriginal Dictionary:\")\r\n",
        "print(dict1)\r\n",
        "print(\"\\nShortest list of values with the keys of the said dictionary:\")\r\n",
        "print(test(dict1))\r\n",
        "\r\n"
      ],
      "execution_count": 33,
      "outputs": [
        {
          "output_type": "stream",
          "text": [
            "\n",
            "Original Dictionary:\n",
            "{'a': [10, 12], 'b': [10], 'c': [10, 20, 30, 40], 'd': [20], 'e': [10, 30, 50, 70], 'f': [80]}\n",
            "\n",
            "Shortest list of values with the keys of the said dictionary:\n",
            "['b', 'd', 'f']\n"
          ],
          "name": "stdout"
        }
      ]
    },
    {
      "cell_type": "code",
      "metadata": {
        "colab": {
          "base_uri": "https://localhost:8080/"
        },
        "id": "hssCBWoKTRqg",
        "outputId": "09eecfc3-62bb-421c-b41e-3b802016de94"
      },
      "source": [
        "#converting a dict to another dict and sum all the values in it\r\n",
        "d={'key1': 1,'key2': 14,'key3': 47}\r\n",
        "d1=d.copy()\r\n",
        "print(\"The new dict is:\")\r\n",
        "print(d1)\r\n",
        "sum1 = sum(d1[item] for item in d1)\r\n",
        "print(sum1)\r\n"
      ],
      "execution_count": 88,
      "outputs": [
        {
          "output_type": "stream",
          "text": [
            "The new dict is:\n",
            "{'key1': 1, 'key2': 14, 'key3': 47}\n",
            "62\n"
          ],
          "name": "stdout"
        }
      ]
    },
    {
      "cell_type": "code",
      "metadata": {
        "colab": {
          "base_uri": "https://localhost:8080/"
        },
        "id": "NQJ_CFPbTdJ4",
        "outputId": "ac76f413-8911-4d7d-9516-90d70510d845"
      },
      "source": [
        "#convert a list to nested dict\r\n",
        "list1 = [\"ggg\", 'iii', 'bbb']\r\n",
        "list2=[\"hhh\",\"kkk\",\"yyy\"] \r\n",
        "print(\"Given list:\\n\",list1)\r\n",
        "new_list = []\r\n",
        "\r\n",
        "# Creating list of list format\r\n",
        "\"\"\"for elem in list1:\r\n",
        "   temp = elem.split(', ')\r\n",
        "   new_list.append((temp))\r\n",
        "\r\n",
        "# Final list\r\n",
        "res = []\r\n",
        "\r\n",
        "for elem in new_list:\r\n",
        "   temp = []\r\n",
        "   for e in elem:\r\n",
        "      temp.append(e)\r\n",
        "   res.append(temp)\r\n",
        "\r\n",
        "# printing\r\n",
        "print(\"The list of lists:\\n\",res)\"\"\"\r\n",
        "\r\n",
        "\r\n",
        "import ast\r\n",
        "listA = ['\"Mon\",\"Tue\"','\"Wed\",\"Thu\",\"Fri\"']\r\n",
        "print(\"Given list: \\n\", listA)\r\n",
        "res = [list(ast.literal_eval(x)) for x in listA]\r\n",
        "\r\n",
        "# New List\r\n",
        "print(\"The list of lists:\\n\",res)\r\n"
      ],
      "execution_count": 18,
      "outputs": [
        {
          "output_type": "stream",
          "text": [
            "Given list:\n",
            " ['ggg', 'iii', 'bbb']\n",
            "Given list: \n",
            " ['\"Mon\",\"Tue\"', '\"Wed\",\"Thu\",\"Fri\"']\n",
            "The list of lists:\n",
            " [['Mon', 'Tue'], ['Wed', 'Thu', 'Fri']]\n"
          ],
          "name": "stdout"
        }
      ]
    },
    {
      "cell_type": "code",
      "metadata": {
        "colab": {
          "base_uri": "https://localhost:8080/"
        },
        "id": "x8OITybTTjUV",
        "outputId": "3c5a01b0-6432-4726-e713-bfc6388b44ad"
      },
      "source": [
        "#In a nested dict, print the duplicate val\r\n",
        "  \r\n",
        "myfamily = {\r\n",
        "  \"child1\" : {\r\n",
        "    \"name\" : \"Emil\",\r\n",
        "    \"year\" : 2004\r\n",
        "  },\r\n",
        "  \"child2\" : {\r\n",
        "    \"name\" : \"Linus\",\r\n",
        "    \"year\" : 2007\r\n",
        "  },\r\n",
        "  \"child3\" : {\r\n",
        "    \"name\" : \"Linus\",\r\n",
        "    \"year\" : 2011\r\n",
        "  }\r\n",
        "}\r\n",
        "print(myfamily)\r\n",
        "new_family={}\r\n",
        "for key,value in myfamily.items():\r\n",
        "    if value in new_family.values():\r\n",
        "        new_family[key] = value\r\n",
        "\r\n",
        "print(new_family)"
      ],
      "execution_count": 74,
      "outputs": [
        {
          "output_type": "stream",
          "text": [
            "{'child1': {'name': 'Emil', 'year': 2004}, 'child2': {'name': 'Linus', 'year': 2007}, 'child3': {'name': 'Linus', 'year': 2011}}\n",
            "{}\n"
          ],
          "name": "stdout"
        }
      ]
    }
  ]
}