{
  "nbformat": 4,
  "nbformat_minor": 0,
  "metadata": {
    "colab": {
      "name": "chatterbot.ipynb",
      "provenance": [],
      "collapsed_sections": [],
      "authorship_tag": "ABX9TyPIhmnrPM+STQ1fbSHA2SA6",
      "include_colab_link": true
    },
    "kernelspec": {
      "name": "python3",
      "display_name": "Python 3"
    }
  },
  "cells": [
    {
      "cell_type": "markdown",
      "metadata": {
        "id": "view-in-github",
        "colab_type": "text"
      },
      "source": [
        "<a href=\"https://colab.research.google.com/github/baladevikumar16/renewal-system/blob/master/chatterbot.ipynb\" target=\"_parent\"><img src=\"https://colab.research.google.com/assets/colab-badge.svg\" alt=\"Open In Colab\"/></a>"
      ]
    },
    {
      "cell_type": "code",
      "metadata": {
        "colab": {
          "base_uri": "https://localhost:8080/"
        },
        "id": "CyZn7Ndw6nKI",
        "outputId": "b914f8ad-4bed-403b-c9ad-241de5570790"
      },
      "source": [
        "!pip install matplotlib-venn\r\n",
        "!apt-get -qq install -y libfluidsynth1"
      ],
      "execution_count": null,
      "outputs": [
        {
          "output_type": "stream",
          "text": [
            "Requirement already satisfied: matplotlib-venn in /usr/local/lib/python3.6/dist-packages (0.11.6)\n",
            "Requirement already satisfied: matplotlib in /usr/local/lib/python3.6/dist-packages (from matplotlib-venn) (3.2.2)\n",
            "Requirement already satisfied: numpy in /usr/local/lib/python3.6/dist-packages (from matplotlib-venn) (1.19.5)\n",
            "Requirement already satisfied: scipy in /usr/local/lib/python3.6/dist-packages (from matplotlib-venn) (1.4.1)\n",
            "Requirement already satisfied: pyparsing!=2.0.4,!=2.1.2,!=2.1.6,>=2.0.1 in /usr/local/lib/python3.6/dist-packages (from matplotlib->matplotlib-venn) (2.4.7)\n",
            "Requirement already satisfied: cycler>=0.10 in /usr/local/lib/python3.6/dist-packages (from matplotlib->matplotlib-venn) (0.10.0)\n",
            "Requirement already satisfied: kiwisolver>=1.0.1 in /usr/local/lib/python3.6/dist-packages (from matplotlib->matplotlib-venn) (1.3.1)\n",
            "Requirement already satisfied: python-dateutil>=2.1 in /usr/local/lib/python3.6/dist-packages (from matplotlib->matplotlib-venn) (2.8.1)\n",
            "Requirement already satisfied: six in /usr/local/lib/python3.6/dist-packages (from cycler>=0.10->matplotlib->matplotlib-venn) (1.15.0)\n",
            "Selecting previously unselected package libfluidsynth1:amd64.\n",
            "(Reading database ... 146442 files and directories currently installed.)\n",
            "Preparing to unpack .../libfluidsynth1_1.1.9-1_amd64.deb ...\n",
            "Unpacking libfluidsynth1:amd64 (1.1.9-1) ...\n",
            "Setting up libfluidsynth1:amd64 (1.1.9-1) ...\n",
            "Processing triggers for libc-bin (2.27-3ubuntu1.3) ...\n",
            "/sbin/ldconfig.real: /usr/local/lib/python3.6/dist-packages/ideep4py/lib/libmkldnn.so.0 is not a symbolic link\n",
            "\n"
          ],
          "name": "stdout"
        }
      ]
    },
    {
      "cell_type": "code",
      "metadata": {
        "colab": {
          "base_uri": "https://localhost:8080/"
        },
        "id": "Ebl9H4aW6zIK",
        "outputId": "7e410a8d-2fc9-4dd7-dfa9-4e6266e31f87"
      },
      "source": [
        "!pip install chatterbot\r\n"
      ],
      "execution_count": null,
      "outputs": [
        {
          "output_type": "stream",
          "text": [
            "Collecting chatterbot\n",
            "\u001b[?25l  Downloading https://files.pythonhosted.org/packages/7c/21/85c2b114bd9dfabdd46ba58fc4519acdaed45d8c70898d40079e37a45e67/ChatterBot-1.0.8-py2.py3-none-any.whl (63kB)\n",
            "\r\u001b[K     |█████▏                          | 10kB 15.1MB/s eta 0:00:01\r\u001b[K     |██████████▎                     | 20kB 11.8MB/s eta 0:00:01\r\u001b[K     |███████████████▌                | 30kB 7.6MB/s eta 0:00:01\r\u001b[K     |████████████████████▋           | 40kB 6.7MB/s eta 0:00:01\r\u001b[K     |█████████████████████████▊      | 51kB 4.2MB/s eta 0:00:01\r\u001b[K     |███████████████████████████████ | 61kB 4.8MB/s eta 0:00:01\r\u001b[K     |████████████████████████████████| 71kB 3.4MB/s \n",
            "\u001b[?25hCollecting mathparse<0.2,>=0.1\n",
            "  Downloading https://files.pythonhosted.org/packages/c3/e5/4910fb85950cb960fcf3f5aabe1c8e55f5c9201788a1c1302b570a7e1f84/mathparse-0.1.2-py3-none-any.whl\n",
            "Requirement already satisfied: sqlalchemy<1.4,>=1.3 in /usr/local/lib/python3.6/dist-packages (from chatterbot) (1.3.23)\n",
            "Requirement already satisfied: pytz in /usr/local/lib/python3.6/dist-packages (from chatterbot) (2018.9)\n",
            "Requirement already satisfied: python-dateutil<2.9,>=2.8 in /usr/local/lib/python3.6/dist-packages (from chatterbot) (2.8.1)\n",
            "Requirement already satisfied: six>=1.5 in /usr/local/lib/python3.6/dist-packages (from python-dateutil<2.9,>=2.8->chatterbot) (1.15.0)\n",
            "Installing collected packages: mathparse, chatterbot\n",
            "Successfully installed chatterbot-1.0.8 mathparse-0.1.2\n"
          ],
          "name": "stdout"
        }
      ]
    },
    {
      "cell_type": "code",
      "metadata": {
        "colab": {
          "base_uri": "https://localhost:8080/"
        },
        "id": "NDpUJH5k7MPn",
        "outputId": "f8fbda01-625b-4ac9-cb98-efe37991e98b"
      },
      "source": [
        "!pip install ChatBot\r\n"
      ],
      "execution_count": null,
      "outputs": [
        {
          "output_type": "stream",
          "text": [
            "Requirement already satisfied: ChatBot in /usr/local/lib/python3.6/dist-packages (1.5.2b0)\n"
          ],
          "name": "stdout"
        }
      ]
    },
    {
      "cell_type": "code",
      "metadata": {
        "id": "4oKgto9QOgjX",
        "colab": {
          "base_uri": "https://localhost:8080/"
        },
        "outputId": "20d7ded9-1799-4b16-c530-15d4b8d3495b"
      },
      "source": [
        "!pip install chatterbot"
      ],
      "execution_count": 2,
      "outputs": [
        {
          "output_type": "stream",
          "text": [
            "Requirement already satisfied: chatterbot in /usr/local/lib/python3.6/dist-packages (1.0.8)\n",
            "Requirement already satisfied: mathparse<0.2,>=0.1 in /usr/local/lib/python3.6/dist-packages (from chatterbot) (0.1.2)\n",
            "Requirement already satisfied: sqlalchemy<1.4,>=1.3 in /usr/local/lib/python3.6/dist-packages (from chatterbot) (1.3.23)\n",
            "Requirement already satisfied: pytz in /usr/local/lib/python3.6/dist-packages (from chatterbot) (2018.9)\n",
            "Requirement already satisfied: python-dateutil<2.9,>=2.8 in /usr/local/lib/python3.6/dist-packages (from chatterbot) (2.8.1)\n",
            "Requirement already satisfied: six>=1.5 in /usr/local/lib/python3.6/dist-packages (from python-dateutil<2.9,>=2.8->chatterbot) (1.15.0)\n"
          ],
          "name": "stdout"
        }
      ]
    },
    {
      "cell_type": "code",
      "metadata": {
        "colab": {
          "base_uri": "https://localhost:8080/"
        },
        "id": "-n4PoFRH5R8J",
        "outputId": "1fef3ff8-b528-4516-81a3-1c3edc59307b"
      },
      "source": [
        "!pip install chatterbot_corpus\r\n"
      ],
      "execution_count": 9,
      "outputs": [
        {
          "output_type": "stream",
          "text": [
            "Collecting chatterbot_corpus\n",
            "\u001b[?25l  Downloading https://files.pythonhosted.org/packages/ed/19/f8b41daf36fe4b0f43e283a820362ffdb2c1128600ab4ee187e84262fa4d/chatterbot_corpus-1.2.0-py2.py3-none-any.whl (117kB)\n",
            "\r\u001b[K     |██▉                             | 10kB 17.5MB/s eta 0:00:01\r\u001b[K     |█████▋                          | 20kB 22.6MB/s eta 0:00:01\r\u001b[K     |████████▍                       | 30kB 11.6MB/s eta 0:00:01\r\u001b[K     |███████████▏                    | 40kB 9.9MB/s eta 0:00:01\r\u001b[K     |██████████████                  | 51kB 8.0MB/s eta 0:00:01\r\u001b[K     |████████████████▊               | 61kB 7.9MB/s eta 0:00:01\r\u001b[K     |███████████████████▋            | 71kB 8.1MB/s eta 0:00:01\r\u001b[K     |██████████████████████▍         | 81kB 9.0MB/s eta 0:00:01\r\u001b[K     |█████████████████████████▏      | 92kB 8.6MB/s eta 0:00:01\r\u001b[K     |████████████████████████████    | 102kB 8.8MB/s eta 0:00:01\r\u001b[K     |██████████████████████████████▊ | 112kB 8.8MB/s eta 0:00:01\r\u001b[K     |████████████████████████████████| 122kB 8.8MB/s \n",
            "\u001b[?25hRequirement already satisfied: PyYAML<4.0,>=3.12 in /usr/local/lib/python3.6/dist-packages (from chatterbot_corpus) (3.13)\n",
            "Installing collected packages: chatterbot-corpus\n",
            "Successfully installed chatterbot-corpus-1.2.0\n"
          ],
          "name": "stdout"
        }
      ]
    },
    {
      "cell_type": "code",
      "metadata": {
        "id": "_J_q8RWW5cCB"
      },
      "source": [
        "\"\"\"Step 2. Import the modules\r\n",
        "we have to import two classes: ChatBot from chatterbot and ListTrainer from chatterbot.trainers.\r\n",
        "ListTrainer: Allows a chatbot to be trained using a list of strings where the list represents a conversation.\"\"\"\r\n",
        "\r\n",
        "\r\n",
        "from chatterbot import ChatBot \r\n",
        "from chatterbot.trainers import ListTrainer \r\n",
        "\r\n",
        "\"\"\"Step 3. Name our Chatbot:\r\n",
        "Now, we will give any name to the chatbot of our choice. Just create a Chatbot object. \r\n",
        "Here the chatbot is maned as “Bot” just to make it understandable.\"\"\"\r\n",
        "\r\n",
        "bot = ChatBot('Bot')\r\n",
        "\r\n",
        "\"\"\"Step 4. Use of Logic Adapter:\r\n",
        "\r\n",
        " The Logical Adapter regulates the logic behind the chatterbot that is, it picks responses for any input \r\n",
        " provided to it. This parameter contains a list of all the logical operators. When more than one logical \r\n",
        " adapter is put to use, the chatbot will calculate the confidence level, and the response with the highest\r\n",
        "  calculated confidence will be returned as output. \r\n",
        "Here we have used two logical adapters:  \r\n",
        "BestMatch: The BestMatchAdapter helps it to choose the best match from the list of responses already provided.\r\n",
        "TimeLogicAdapter: The TimeLogicAdapter identifies statements in which a question about the current time is asked. \r\n",
        "If a matching question is detected, then a response containing the current time is returned.\"\"\"\r\n",
        "\r\n",
        "chatbot = ChatBot( \r\n",
        "    'JARVIS',   \r\n",
        "    logic_adapters=[ \r\n",
        "        'chatterbot.logic.BestMatch', \r\n",
        "        'chatterbot.logic.TimeLogicAdapter'], \r\n",
        ")   \r\n",
        "\r\n",
        "\r\n",
        "\"\"\"Step 5. Training, Communication, and Testing :\r\n",
        "\r\n",
        "For the training process, you will need to pass in a list of statements where the order of \r\n",
        "each statement is based on its placement in a given conversation. We have to train the bot \r\n",
        "to improve its performance for this we need to call the train() method by passing a list of \r\n",
        "sentences. Training ensures that the bot has enough knowledge to get started with specific \r\n",
        "responses to specific inputs. After training, let’s check its communication skills. And the\r\n",
        "last step is to do testing \r\n",
        "You have to execute the following commands now:\"\"\"\r\n",
        "\r\n",
        "from chatterbot.trainers import ListTrainer   \r\n",
        "trainer = ListTrainer(bot)   \r\n",
        "trainer.train([ \r\n",
        "    'Hi', \r\n",
        "    'Hello', \r\n",
        "    'I need roadmap for Competitive Programming', \r\n",
        "    'Just create an account on GFG and start', \r\n",
        "    'I have a query.', \r\n",
        "    'Please elaborate, your concern', \r\n",
        "    'How long it will take to become expert in Coding ?', \r\n",
        "    'It usually depends on the amount of practice.', \r\n",
        "    'Ok Thanks', \r\n",
        "    'No Problem! Have a Good Day!'\r\n",
        "]) \r\n",
        "\r\n",
        "\"\"\"Now let, test the chatbot:\"\"\"\r\n",
        "response = bot.get_response(\"Good morning!\")   \r\n",
        "print(response)\r\n"
      ],
      "execution_count": null,
      "outputs": []
    },
    {
      "cell_type": "code",
      "metadata": {
        "colab": {
          "base_uri": "https://localhost:8080/"
        },
        "id": "QybS1dgz7Tj9",
        "outputId": "0483895e-7c45-406a-ce88-efc9b5dce86b"
      },
      "source": [
        "from chatterbot import ChatBot \r\n",
        "from chatterbot.trainers import ListTrainer \r\n",
        "from chatterbot.trainers import ListTrainer \r\n",
        "  \r\n",
        "bot = ChatBot('Bot') \r\n",
        "  \r\n",
        "trainer = ListTrainer(bot) \r\n",
        "  \r\n",
        "trainer.train([ \r\n",
        "    'Hi', \r\n",
        "    'Hello', \r\n",
        "    'I need roadmap for Competitive Programming', \r\n",
        "    'Just create an account on GFG and start', \r\n",
        "    'I have a query.', \r\n",
        "    'Please elaborate, your concern', \r\n",
        "    'How long it will take to become expert in Coding ?', \r\n",
        "    'It usually depends on the amount of practice.', \r\n",
        "    'Ok Thanks', \r\n",
        "    'No Problem! Have a Good Day!'\r\n",
        "]) \r\n",
        "  \r\n",
        "while True: \r\n",
        "    request=input('you :') \r\n",
        "    if request == 'OK' or request == 'ok': \r\n",
        "        print('Bot: bye') \r\n",
        "        break\r\n",
        "    else: \r\n",
        "        response=bot.get_response(request) \r\n",
        "        print('Bot:', response) "
      ],
      "execution_count": 18,
      "outputs": [
        {
          "output_type": "stream",
          "text": [
            "List Trainer: [####################] 100%\n",
            "you :hi\n",
            "Bot: Hello\n",
            "you :I need roadmap for Competitive Programming\n",
            "Bot: Just create an account on GFG and start\n",
            "you :I have a query.\n",
            "Bot: Please elaborate, your concern\n",
            "you :How long it will take to become expert in Coding ?\n",
            "Bot: It usually depends on the amount of practice.\n",
            "you :Ok Thanks\n",
            "Bot: No Problem! Have a Good Day!\n",
            "you :ok\n",
            "Bot: bye\n"
          ],
          "name": "stdout"
        }
      ]
    },
    {
      "cell_type": "code",
      "metadata": {
        "id": "dg0t2MBm8-u-"
      },
      "source": [
        "#CHATTERBOT BY BALA"
      ],
      "execution_count": null,
      "outputs": []
    },
    {
      "cell_type": "code",
      "metadata": {
        "colab": {
          "base_uri": "https://localhost:8080/"
        },
        "id": "j7BLrHnO9QId",
        "outputId": "5d48b46f-5621-45ed-fee1-b1cbe8e7b019"
      },
      "source": [
        "from chatterbot import ChatBot \r\n",
        "from chatterbot.trainers import ListTrainer \r\n",
        "from chatterbot.trainers import ListTrainer \r\n",
        "  \r\n",
        "bot = ChatBot('Bot') \r\n",
        "  \r\n",
        "trainer = ListTrainer(bot) \r\n",
        "  \r\n",
        "trainer.train(['hi can you help me find a course', \r\n",
        "               'sure I would love to find you a course', \r\n",
        "               'yeah thats so nice of you',\r\n",
        "               'Its my pleasure,These were the courses in the list:Tam,Eng,Mat,Sci,Soc',\r\n",
        "               'I would like to take Mat,since it is my favourite',\r\n",
        "               'oh nice',\r\n",
        "               'Please select the course for me',\r\n",
        "               'your course has been selected',\r\n",
        "               'Thank you so much',\r\n",
        "               'No Problem! Have a Good Day!'])\r\n",
        "while True: \r\n",
        "    request=input('you :') \r\n",
        "    if request == 'OK' or request == 'ok': \r\n",
        "        print('Bot: bye') \r\n",
        "        break\r\n",
        "    else: \r\n",
        "        response=bot.get_response(request) \r\n",
        "        print('Bot:', response) "
      ],
      "execution_count": 23,
      "outputs": [
        {
          "output_type": "stream",
          "text": [
            "List Trainer: [####################] 100%\n",
            "you :hi can you help me find a course\n",
            "Bot: sure I would love to find you a course\n",
            "you :yeah thats so nice of you\n",
            "Bot: Its my pleasure,These were the courses in the list:Tam,Eng,Mat,Sci,Soc\n",
            "you :I would like to take Mat,since it is my favourite\n",
            "Bot: oh nice\n",
            "you :Please select the course for me\n",
            "Bot: your course have been selected\n",
            "you :Thank you so much\n",
            "Bot: No Problem! Have a Good Day!\n",
            "you :OK\n",
            "Bot: bye\n"
          ],
          "name": "stdout"
        }
      ]
    }
  ]
}