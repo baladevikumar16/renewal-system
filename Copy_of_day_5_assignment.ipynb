{
  "nbformat": 4,
  "nbformat_minor": 0,
  "metadata": {
    "colab": {
      "name": "Copy of day 5 assignment.ipynb",
      "provenance": [],
      "collapsed_sections": [],
      "authorship_tag": "ABX9TyP5OKVK5B81XZCMQJ1kE17X",
      "include_colab_link": true
    },
    "kernelspec": {
      "name": "python3",
      "display_name": "Python 3"
    }
  },
  "cells": [
    {
      "cell_type": "markdown",
      "metadata": {
        "id": "view-in-github",
        "colab_type": "text"
      },
      "source": [
        "<a href=\"https://colab.research.google.com/github/baladevikumar16/renewal-system/blob/master/Copy_of_day_5_assignment.ipynb\" target=\"_parent\"><img src=\"https://colab.research.google.com/assets/colab-badge.svg\" alt=\"Open In Colab\"/></a>"
      ]
    },
    {
      "cell_type": "code",
      "metadata": {
        "id": "Jeibyi6AU4cG",
        "colab": {
          "base_uri": "https://localhost:8080/"
        },
        "outputId": "0bcd9628-e321-4923-cad2-c52589e9822a"
      },
      "source": [
        "def is_prime(n):\r\n",
        "   if n <= 1:\r\n",
        "      return False\r\n",
        "   else:\r\n",
        "      for i in range(2, n):\r\n",
        "         \r\n",
        "         if n % i == 0:\r\n",
        "            \r\n",
        "            return False\r\n",
        "      \r\n",
        "   return True\r\n",
        "print(\"Is 2 prime: {is_prime(2)}\")\r\n",
        "print(\"Is 4 prime: {is_prime(4)}\")\r\n",
        "print(\"Is 7 prime: {is_prime(78)}\")"
      ],
      "execution_count": null,
      "outputs": [
        {
          "output_type": "stream",
          "text": [
            "Is 2 prime: {is_prime(2)}\n",
            "Is 4 prime: {is_prime(4)}\n",
            "Is 7 prime: {is_prime(78)}\n"
          ],
          "name": "stdout"
        }
      ]
    }
  ]
}